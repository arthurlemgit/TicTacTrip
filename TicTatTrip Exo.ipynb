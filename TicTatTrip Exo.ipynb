{
 "cells": [
  {
   "cell_type": "markdown",
   "metadata": {},
   "source": [
    "# Exercice TicTacTrip\n",
    "\n",
    "*Arthur Lemerle, 5 avril 2022*"
   ]
  },
  {
   "cell_type": "markdown",
   "metadata": {},
   "source": [
    "Sans faire d'introduction longue et ennuyeuse, je voulais tout de même faire quelques remarques en plus de celles que j'ai faites au fur et à mesure de l'exercice. \n",
    "La première, c'est que j'ai appris pas mal de choses en travaillant sur cet exercice. J'ai assez vite réfléchi en mode \"bases de données\"/\"SQL\", et j'ai donc utilisé pandas de cette manière-là assez régulièrement. Je n'y étais pas forcément habitué (j'aurais été plus à l'aise directement en SQL) mais j'ai trouvé super intéressant et stimulant de traduire tout ça en python grâce à pandas.\n",
    "En essayant par endroits de me simplifier la vie, j'ai aussi découvert des bibliothèques que je ne connaissais pas : geodesic pour le calcul des distances à partir des coordonnées logitudes/latitudes; et la fonction to_datatime de pandas pour calculer facilement le temps des trajets.\n",
    "J'ai sinon essayé d'expliquer partout ce que je faisais. Mon rapport se lit dans l'ordre, au fur et à mesure. J'ai tout le temps vérifié sur des exemples particuliers que les résultats (distances/temps/moyennes etc.) étaient corrects, mais j'ai supprimé du notebook ces vérifications pour qu'il soit le plus lisible possible."
   ]
  },
  {
   "cell_type": "code",
   "execution_count": 1,
   "metadata": {},
   "outputs": [
    {
     "name": "stderr",
     "output_type": "stream",
     "text": [
      "/Users/arthurlemerle/anaconda3/lib/python3.7/site-packages/pandas/compat/_optional.py:138: UserWarning: Pandas requires version '2.7.0' or newer of 'numexpr' (version '2.6.9' currently installed).\n",
      "  warnings.warn(msg, UserWarning)\n"
     ]
    }
   ],
   "source": [
    "# Import the useful libraries\n",
    "import pandas as pd\n",
    "import numpy as np\n",
    "from geopy.distance import geodesic\n",
    "import matplotlib.pyplot as plt\n",
    "import tensorflow as tf\n",
    "import math"
   ]
  },
  {
   "cell_type": "code",
   "execution_count": 2,
   "metadata": {},
   "outputs": [],
   "source": [
    "# Make the data available. The user should simply copy/paste the path to the folder \"Data\" from its own computer.\n",
    "data_folder = '/Users/arthurlemerle/Desktop/TicTacTrip/Data'\n",
    "\n",
    "# Load the different data sets into the environment\n",
    "ticket_data = pd.read_csv(data_folder+\"/ticket_data.csv\")\n",
    "cities = pd.read_csv(data_folder+\"/cities.csv\")\n",
    "providers = pd.read_csv(data_folder+\"/providers.csv\")\n",
    "stations = pd.read_csv(data_folder+\"/stations.csv\")"
   ]
  },
  {
   "cell_type": "markdown",
   "metadata": {},
   "source": [
    "Maintenant que toutes les données sont chargées dans notre environnement, nous utilisons quelques commandes simples pour se familiariser avec le data set ticket_data."
   ]
  },
  {
   "cell_type": "code",
   "execution_count": 3,
   "metadata": {},
   "outputs": [
    {
     "data": {
      "text/html": [
       "<div>\n",
       "<style scoped>\n",
       "    .dataframe tbody tr th:only-of-type {\n",
       "        vertical-align: middle;\n",
       "    }\n",
       "\n",
       "    .dataframe tbody tr th {\n",
       "        vertical-align: top;\n",
       "    }\n",
       "\n",
       "    .dataframe thead th {\n",
       "        text-align: right;\n",
       "    }\n",
       "</style>\n",
       "<table border=\"1\" class=\"dataframe\">\n",
       "  <thead>\n",
       "    <tr style=\"text-align: right;\">\n",
       "      <th></th>\n",
       "      <th>id</th>\n",
       "      <th>company</th>\n",
       "      <th>o_station</th>\n",
       "      <th>d_station</th>\n",
       "      <th>departure_ts</th>\n",
       "      <th>arrival_ts</th>\n",
       "      <th>price_in_cents</th>\n",
       "      <th>search_ts</th>\n",
       "      <th>middle_stations</th>\n",
       "      <th>other_companies</th>\n",
       "      <th>o_city</th>\n",
       "      <th>d_city</th>\n",
       "    </tr>\n",
       "  </thead>\n",
       "  <tbody>\n",
       "    <tr>\n",
       "      <th>0</th>\n",
       "      <td>6795025</td>\n",
       "      <td>8385</td>\n",
       "      <td>NaN</td>\n",
       "      <td>NaN</td>\n",
       "      <td>2017-10-13 14:00:00+00</td>\n",
       "      <td>2017-10-13 20:10:00+00</td>\n",
       "      <td>4550</td>\n",
       "      <td>2017-10-01 00:13:31.327+00</td>\n",
       "      <td>NaN</td>\n",
       "      <td>NaN</td>\n",
       "      <td>611</td>\n",
       "      <td>542</td>\n",
       "    </tr>\n",
       "    <tr>\n",
       "      <th>1</th>\n",
       "      <td>6795026</td>\n",
       "      <td>9</td>\n",
       "      <td>63.0</td>\n",
       "      <td>1044.0</td>\n",
       "      <td>2017-10-13 13:05:00+00</td>\n",
       "      <td>2017-10-14 06:55:00+00</td>\n",
       "      <td>1450</td>\n",
       "      <td>2017-10-01 00:13:35.773+00</td>\n",
       "      <td>{149,418}</td>\n",
       "      <td>{13}</td>\n",
       "      <td>611</td>\n",
       "      <td>542</td>\n",
       "    </tr>\n",
       "    <tr>\n",
       "      <th>2</th>\n",
       "      <td>6795027</td>\n",
       "      <td>8377</td>\n",
       "      <td>5905.0</td>\n",
       "      <td>6495.0</td>\n",
       "      <td>2017-10-13 13:27:00+00</td>\n",
       "      <td>2017-10-14 21:24:00+00</td>\n",
       "      <td>7400</td>\n",
       "      <td>2017-10-01 00:13:40.212+00</td>\n",
       "      <td>{798,798,6794,6246}</td>\n",
       "      <td>{8377,8376}</td>\n",
       "      <td>611</td>\n",
       "      <td>542</td>\n",
       "    </tr>\n",
       "    <tr>\n",
       "      <th>3</th>\n",
       "      <td>6795028</td>\n",
       "      <td>8377</td>\n",
       "      <td>5905.0</td>\n",
       "      <td>6495.0</td>\n",
       "      <td>2017-10-13 13:27:00+00</td>\n",
       "      <td>2017-10-14 11:02:00+00</td>\n",
       "      <td>13500</td>\n",
       "      <td>2017-10-01 00:13:40.213+00</td>\n",
       "      <td>{798,798,6794,6246}</td>\n",
       "      <td>{8377,8376}</td>\n",
       "      <td>611</td>\n",
       "      <td>542</td>\n",
       "    </tr>\n",
       "    <tr>\n",
       "      <th>4</th>\n",
       "      <td>6795029</td>\n",
       "      <td>8381</td>\n",
       "      <td>5905.0</td>\n",
       "      <td>6495.0</td>\n",
       "      <td>2017-10-13 21:46:00+00</td>\n",
       "      <td>2017-10-14 19:32:00+00</td>\n",
       "      <td>7710</td>\n",
       "      <td>2017-10-01 00:13:40.213+00</td>\n",
       "      <td>{5983,5983}</td>\n",
       "      <td>{8380}</td>\n",
       "      <td>611</td>\n",
       "      <td>542</td>\n",
       "    </tr>\n",
       "  </tbody>\n",
       "</table>\n",
       "</div>"
      ],
      "text/plain": [
       "        id  company  o_station  d_station            departure_ts  \\\n",
       "0  6795025     8385        NaN        NaN  2017-10-13 14:00:00+00   \n",
       "1  6795026        9       63.0     1044.0  2017-10-13 13:05:00+00   \n",
       "2  6795027     8377     5905.0     6495.0  2017-10-13 13:27:00+00   \n",
       "3  6795028     8377     5905.0     6495.0  2017-10-13 13:27:00+00   \n",
       "4  6795029     8381     5905.0     6495.0  2017-10-13 21:46:00+00   \n",
       "\n",
       "               arrival_ts  price_in_cents                   search_ts  \\\n",
       "0  2017-10-13 20:10:00+00            4550  2017-10-01 00:13:31.327+00   \n",
       "1  2017-10-14 06:55:00+00            1450  2017-10-01 00:13:35.773+00   \n",
       "2  2017-10-14 21:24:00+00            7400  2017-10-01 00:13:40.212+00   \n",
       "3  2017-10-14 11:02:00+00           13500  2017-10-01 00:13:40.213+00   \n",
       "4  2017-10-14 19:32:00+00            7710  2017-10-01 00:13:40.213+00   \n",
       "\n",
       "       middle_stations other_companies  o_city  d_city  \n",
       "0                  NaN             NaN     611     542  \n",
       "1            {149,418}            {13}     611     542  \n",
       "2  {798,798,6794,6246}     {8377,8376}     611     542  \n",
       "3  {798,798,6794,6246}     {8377,8376}     611     542  \n",
       "4          {5983,5983}          {8380}     611     542  "
      ]
     },
     "execution_count": 3,
     "metadata": {},
     "output_type": "execute_result"
    }
   ],
   "source": [
    "# We look at the 5 first rows of the tickets data set to see what it contains\n",
    "ticket_data.head()"
   ]
  },
  {
   "cell_type": "code",
   "execution_count": 4,
   "metadata": {},
   "outputs": [
    {
     "data": {
      "text/html": [
       "<div>\n",
       "<style scoped>\n",
       "    .dataframe tbody tr th:only-of-type {\n",
       "        vertical-align: middle;\n",
       "    }\n",
       "\n",
       "    .dataframe tbody tr th {\n",
       "        vertical-align: top;\n",
       "    }\n",
       "\n",
       "    .dataframe thead th {\n",
       "        text-align: right;\n",
       "    }\n",
       "</style>\n",
       "<table border=\"1\" class=\"dataframe\">\n",
       "  <thead>\n",
       "    <tr style=\"text-align: right;\">\n",
       "      <th></th>\n",
       "      <th>id</th>\n",
       "      <th>company</th>\n",
       "      <th>o_station</th>\n",
       "      <th>d_station</th>\n",
       "      <th>price_in_cents</th>\n",
       "      <th>o_city</th>\n",
       "      <th>d_city</th>\n",
       "    </tr>\n",
       "  </thead>\n",
       "  <tbody>\n",
       "    <tr>\n",
       "      <th>count</th>\n",
       "      <td>7.416800e+04</td>\n",
       "      <td>74168.000000</td>\n",
       "      <td>32727.000000</td>\n",
       "      <td>32727.000000</td>\n",
       "      <td>74168.000000</td>\n",
       "      <td>74168.000000</td>\n",
       "      <td>74168.000000</td>\n",
       "    </tr>\n",
       "    <tr>\n",
       "      <th>mean</th>\n",
       "      <td>6.832108e+06</td>\n",
       "      <td>7109.565527</td>\n",
       "      <td>2907.132673</td>\n",
       "      <td>2347.858129</td>\n",
       "      <td>4382.711061</td>\n",
       "      <td>849.186105</td>\n",
       "      <td>883.776265</td>\n",
       "    </tr>\n",
       "    <tr>\n",
       "      <th>std</th>\n",
       "      <td>2.141060e+04</td>\n",
       "      <td>3005.380792</td>\n",
       "      <td>3347.629180</td>\n",
       "      <td>3090.798007</td>\n",
       "      <td>3739.325367</td>\n",
       "      <td>1485.791782</td>\n",
       "      <td>1654.698575</td>\n",
       "    </tr>\n",
       "    <tr>\n",
       "      <th>min</th>\n",
       "      <td>6.795025e+06</td>\n",
       "      <td>9.000000</td>\n",
       "      <td>3.000000</td>\n",
       "      <td>3.000000</td>\n",
       "      <td>300.000000</td>\n",
       "      <td>5.000000</td>\n",
       "      <td>1.000000</td>\n",
       "    </tr>\n",
       "    <tr>\n",
       "      <th>25%</th>\n",
       "      <td>6.813567e+06</td>\n",
       "      <td>8376.000000</td>\n",
       "      <td>400.000000</td>\n",
       "      <td>396.000000</td>\n",
       "      <td>1900.000000</td>\n",
       "      <td>485.000000</td>\n",
       "      <td>453.000000</td>\n",
       "    </tr>\n",
       "    <tr>\n",
       "      <th>50%</th>\n",
       "      <td>6.832108e+06</td>\n",
       "      <td>8385.000000</td>\n",
       "      <td>701.000000</td>\n",
       "      <td>575.000000</td>\n",
       "      <td>3350.000000</td>\n",
       "      <td>628.000000</td>\n",
       "      <td>562.000000</td>\n",
       "    </tr>\n",
       "    <tr>\n",
       "      <th>75%</th>\n",
       "      <td>6.850650e+06</td>\n",
       "      <td>8385.000000</td>\n",
       "      <td>6246.000000</td>\n",
       "      <td>4538.000000</td>\n",
       "      <td>5250.000000</td>\n",
       "      <td>628.000000</td>\n",
       "      <td>628.000000</td>\n",
       "    </tr>\n",
       "    <tr>\n",
       "      <th>max</th>\n",
       "      <td>6.869192e+06</td>\n",
       "      <td>8387.000000</td>\n",
       "      <td>11017.000000</td>\n",
       "      <td>11017.000000</td>\n",
       "      <td>38550.000000</td>\n",
       "      <td>12190.000000</td>\n",
       "      <td>12190.000000</td>\n",
       "    </tr>\n",
       "  </tbody>\n",
       "</table>\n",
       "</div>"
      ],
      "text/plain": [
       "                 id       company     o_station     d_station  price_in_cents  \\\n",
       "count  7.416800e+04  74168.000000  32727.000000  32727.000000    74168.000000   \n",
       "mean   6.832108e+06   7109.565527   2907.132673   2347.858129     4382.711061   \n",
       "std    2.141060e+04   3005.380792   3347.629180   3090.798007     3739.325367   \n",
       "min    6.795025e+06      9.000000      3.000000      3.000000      300.000000   \n",
       "25%    6.813567e+06   8376.000000    400.000000    396.000000     1900.000000   \n",
       "50%    6.832108e+06   8385.000000    701.000000    575.000000     3350.000000   \n",
       "75%    6.850650e+06   8385.000000   6246.000000   4538.000000     5250.000000   \n",
       "max    6.869192e+06   8387.000000  11017.000000  11017.000000    38550.000000   \n",
       "\n",
       "             o_city        d_city  \n",
       "count  74168.000000  74168.000000  \n",
       "mean     849.186105    883.776265  \n",
       "std     1485.791782   1654.698575  \n",
       "min        5.000000      1.000000  \n",
       "25%      485.000000    453.000000  \n",
       "50%      628.000000    562.000000  \n",
       "75%      628.000000    628.000000  \n",
       "max    12190.000000  12190.000000  "
      ]
     },
     "execution_count": 4,
     "metadata": {},
     "output_type": "execute_result"
    }
   ],
   "source": [
    "# We print some interesting statistics about the data\n",
    "ticket_data.describe()"
   ]
  },
  {
   "cell_type": "code",
   "execution_count": 5,
   "metadata": {},
   "outputs": [
    {
     "data": {
      "text/plain": [
       "(74168, 12)"
      ]
     },
     "execution_count": 5,
     "metadata": {},
     "output_type": "execute_result"
    }
   ],
   "source": [
    "# Dimensions of the data frame\n",
    "ticket_data.shape"
   ]
  },
  {
   "cell_type": "code",
   "execution_count": 6,
   "metadata": {},
   "outputs": [
    {
     "name": "stdout",
     "output_type": "stream",
     "text": [
      "<class 'pandas.core.frame.DataFrame'>\n",
      "RangeIndex: 74168 entries, 0 to 74167\n",
      "Data columns (total 12 columns):\n",
      " #   Column           Non-Null Count  Dtype  \n",
      "---  ------           --------------  -----  \n",
      " 0   id               74168 non-null  int64  \n",
      " 1   company          74168 non-null  int64  \n",
      " 2   o_station        32727 non-null  float64\n",
      " 3   d_station        32727 non-null  float64\n",
      " 4   departure_ts     74168 non-null  object \n",
      " 5   arrival_ts       74168 non-null  object \n",
      " 6   price_in_cents   74168 non-null  int64  \n",
      " 7   search_ts        74168 non-null  object \n",
      " 8   middle_stations  32727 non-null  object \n",
      " 9   other_companies  32727 non-null  object \n",
      " 10  o_city           74168 non-null  int64  \n",
      " 11  d_city           74168 non-null  int64  \n",
      "dtypes: float64(2), int64(5), object(5)\n",
      "memory usage: 6.8+ MB\n"
     ]
    }
   ],
   "source": [
    "# Additional knowledge on the data\n",
    "ticket_data.info()"
   ]
  },
  {
   "cell_type": "markdown",
   "metadata": {},
   "source": [
    "Nous nous attaquons maintenant à déterminer des informations relatives à la durée des trajets."
   ]
  },
  {
   "cell_type": "code",
   "execution_count": 7,
   "metadata": {},
   "outputs": [
    {
     "data": {
      "text/html": [
       "<div>\n",
       "<style scoped>\n",
       "    .dataframe tbody tr th:only-of-type {\n",
       "        vertical-align: middle;\n",
       "    }\n",
       "\n",
       "    .dataframe tbody tr th {\n",
       "        vertical-align: top;\n",
       "    }\n",
       "\n",
       "    .dataframe thead th {\n",
       "        text-align: right;\n",
       "    }\n",
       "</style>\n",
       "<table border=\"1\" class=\"dataframe\">\n",
       "  <thead>\n",
       "    <tr style=\"text-align: right;\">\n",
       "      <th></th>\n",
       "      <th>id</th>\n",
       "      <th>company</th>\n",
       "      <th>o_station</th>\n",
       "      <th>d_station</th>\n",
       "      <th>departure_ts</th>\n",
       "      <th>arrival_ts</th>\n",
       "      <th>price_in_cents</th>\n",
       "      <th>search_ts</th>\n",
       "      <th>middle_stations</th>\n",
       "      <th>other_companies</th>\n",
       "      <th>o_city</th>\n",
       "      <th>d_city</th>\n",
       "      <th>temps_trajet_total_minutes</th>\n",
       "    </tr>\n",
       "  </thead>\n",
       "  <tbody>\n",
       "    <tr>\n",
       "      <th>0</th>\n",
       "      <td>6795025</td>\n",
       "      <td>8385</td>\n",
       "      <td>NaN</td>\n",
       "      <td>NaN</td>\n",
       "      <td>2017-10-13 14:00:00+00</td>\n",
       "      <td>2017-10-13 20:10:00+00</td>\n",
       "      <td>4550</td>\n",
       "      <td>2017-10-01 00:13:31.327+00</td>\n",
       "      <td>NaN</td>\n",
       "      <td>NaN</td>\n",
       "      <td>611</td>\n",
       "      <td>542</td>\n",
       "      <td>370.0</td>\n",
       "    </tr>\n",
       "    <tr>\n",
       "      <th>1</th>\n",
       "      <td>6795026</td>\n",
       "      <td>9</td>\n",
       "      <td>63.0</td>\n",
       "      <td>1044.0</td>\n",
       "      <td>2017-10-13 13:05:00+00</td>\n",
       "      <td>2017-10-14 06:55:00+00</td>\n",
       "      <td>1450</td>\n",
       "      <td>2017-10-01 00:13:35.773+00</td>\n",
       "      <td>{149,418}</td>\n",
       "      <td>{13}</td>\n",
       "      <td>611</td>\n",
       "      <td>542</td>\n",
       "      <td>1070.0</td>\n",
       "    </tr>\n",
       "    <tr>\n",
       "      <th>2</th>\n",
       "      <td>6795027</td>\n",
       "      <td>8377</td>\n",
       "      <td>5905.0</td>\n",
       "      <td>6495.0</td>\n",
       "      <td>2017-10-13 13:27:00+00</td>\n",
       "      <td>2017-10-14 21:24:00+00</td>\n",
       "      <td>7400</td>\n",
       "      <td>2017-10-01 00:13:40.212+00</td>\n",
       "      <td>{798,798,6794,6246}</td>\n",
       "      <td>{8377,8376}</td>\n",
       "      <td>611</td>\n",
       "      <td>542</td>\n",
       "      <td>1917.0</td>\n",
       "    </tr>\n",
       "    <tr>\n",
       "      <th>3</th>\n",
       "      <td>6795028</td>\n",
       "      <td>8377</td>\n",
       "      <td>5905.0</td>\n",
       "      <td>6495.0</td>\n",
       "      <td>2017-10-13 13:27:00+00</td>\n",
       "      <td>2017-10-14 11:02:00+00</td>\n",
       "      <td>13500</td>\n",
       "      <td>2017-10-01 00:13:40.213+00</td>\n",
       "      <td>{798,798,6794,6246}</td>\n",
       "      <td>{8377,8376}</td>\n",
       "      <td>611</td>\n",
       "      <td>542</td>\n",
       "      <td>1295.0</td>\n",
       "    </tr>\n",
       "    <tr>\n",
       "      <th>4</th>\n",
       "      <td>6795029</td>\n",
       "      <td>8381</td>\n",
       "      <td>5905.0</td>\n",
       "      <td>6495.0</td>\n",
       "      <td>2017-10-13 21:46:00+00</td>\n",
       "      <td>2017-10-14 19:32:00+00</td>\n",
       "      <td>7710</td>\n",
       "      <td>2017-10-01 00:13:40.213+00</td>\n",
       "      <td>{5983,5983}</td>\n",
       "      <td>{8380}</td>\n",
       "      <td>611</td>\n",
       "      <td>542</td>\n",
       "      <td>1306.0</td>\n",
       "    </tr>\n",
       "  </tbody>\n",
       "</table>\n",
       "</div>"
      ],
      "text/plain": [
       "        id  company  o_station  d_station            departure_ts  \\\n",
       "0  6795025     8385        NaN        NaN  2017-10-13 14:00:00+00   \n",
       "1  6795026        9       63.0     1044.0  2017-10-13 13:05:00+00   \n",
       "2  6795027     8377     5905.0     6495.0  2017-10-13 13:27:00+00   \n",
       "3  6795028     8377     5905.0     6495.0  2017-10-13 13:27:00+00   \n",
       "4  6795029     8381     5905.0     6495.0  2017-10-13 21:46:00+00   \n",
       "\n",
       "               arrival_ts  price_in_cents                   search_ts  \\\n",
       "0  2017-10-13 20:10:00+00            4550  2017-10-01 00:13:31.327+00   \n",
       "1  2017-10-14 06:55:00+00            1450  2017-10-01 00:13:35.773+00   \n",
       "2  2017-10-14 21:24:00+00            7400  2017-10-01 00:13:40.212+00   \n",
       "3  2017-10-14 11:02:00+00           13500  2017-10-01 00:13:40.213+00   \n",
       "4  2017-10-14 19:32:00+00            7710  2017-10-01 00:13:40.213+00   \n",
       "\n",
       "       middle_stations other_companies  o_city  d_city  \\\n",
       "0                  NaN             NaN     611     542   \n",
       "1            {149,418}            {13}     611     542   \n",
       "2  {798,798,6794,6246}     {8377,8376}     611     542   \n",
       "3  {798,798,6794,6246}     {8377,8376}     611     542   \n",
       "4          {5983,5983}          {8380}     611     542   \n",
       "\n",
       "   temps_trajet_total_minutes  \n",
       "0                       370.0  \n",
       "1                      1070.0  \n",
       "2                      1917.0  \n",
       "3                      1295.0  \n",
       "4                      1306.0  "
      ]
     },
     "execution_count": 7,
     "metadata": {},
     "output_type": "execute_result"
    }
   ],
   "source": [
    "# We begin by selecting the columns of interest : the departure time and the arrival time\n",
    "horaires_depart=ticket_data['departure_ts']\n",
    "horaires_arrivee=ticket_data['arrival_ts']\n",
    "\n",
    "# We convert these dates into timestamps objects, easier to manipulate\n",
    "horaires_depart=pd.to_datetime(horaires_depart, utc=True, format = \"%Y-%m-%d %H:%M:%S\")\n",
    "horaires_arrivee=pd.to_datetime(horaires_arrivee, utc=True, format = \"%Y-%m-%d %H:%M:%S\")\n",
    "\n",
    "# We add to our data set a new column corresponding to the time of travel\n",
    "ticket_data['temps_trajet_total_minutes']=(horaires_arrivee-horaires_depart).dt.total_seconds()/60\n",
    "\n",
    "# We print the result to make sure that what we have is correct. By hand, it is easy to check on a few examples that we have found the total time of each travel\n",
    "ticket_data.head()"
   ]
  },
  {
   "cell_type": "markdown",
   "metadata": {},
   "source": [
    "On peut maintenant obtenir facilement quelques statistiques sur les temps de trajet."
   ]
  },
  {
   "cell_type": "code",
   "execution_count": 8,
   "metadata": {},
   "outputs": [
    {
     "data": {
      "text/plain": [
       "count    74168.000000\n",
       "mean       424.620793\n",
       "std        594.981356\n",
       "min         20.000000\n",
       "25%        180.000000\n",
       "50%        290.000000\n",
       "75%        480.000000\n",
       "max      29571.000000\n",
       "Name: temps_trajet_total_minutes, dtype: float64"
      ]
     },
     "execution_count": 8,
     "metadata": {},
     "output_type": "execute_result"
    }
   ],
   "source": [
    "# We print some statistics of interest :\n",
    "ticket_data[\"temps_trajet_total_minutes\"].describe()"
   ]
  },
  {
   "cell_type": "code",
   "execution_count": 9,
   "metadata": {},
   "outputs": [
    {
     "data": {
      "text/plain": [
       "count    74168.000000\n",
       "mean      4382.711061\n",
       "std       3739.325367\n",
       "min        300.000000\n",
       "25%       1900.000000\n",
       "50%       3350.000000\n",
       "75%       5250.000000\n",
       "max      38550.000000\n",
       "Name: price_in_cents, dtype: float64"
      ]
     },
     "execution_count": 9,
     "metadata": {},
     "output_type": "execute_result"
    }
   ],
   "source": [
    "ticket_data[\"price_in_cents\"].describe()"
   ]
  },
  {
   "cell_type": "markdown",
   "metadata": {},
   "source": [
    "On constate ainsi que : \n",
    "- la durée minimum des trajets recensés est de 20min.\n",
    "- la durée maximum des trajets est de 29571min, soit plus de 20 jours.\n",
    "- En moyenne, un trajet dure 424,6min ; soit un peu plus de 7h45.\n",
    "\n",
    "Par ailleurs : \n",
    "- le prix minimum des trajets recensés est de 300 cents.\n",
    "- le prix maximum des trajets recensés est de 38550 cents.\n",
    "- le prix moyen est de 4383 cents environ."
   ]
  },
  {
   "cell_type": "markdown",
   "metadata": {},
   "source": [
    "Nous déterminons maintenant les différences de prix moyen et de durée en fonction du mode de transport et de la distance de trajet.\n",
    "\n",
    "Pour commencer, essayons de comprendre un peu mieux la signification des données."
   ]
  },
  {
   "cell_type": "code",
   "execution_count": 10,
   "metadata": {},
   "outputs": [
    {
     "data": {
      "text/plain": [
       "id                                0\n",
       "company                           0\n",
       "o_station                     41441\n",
       "d_station                     41441\n",
       "departure_ts                      0\n",
       "arrival_ts                        0\n",
       "price_in_cents                    0\n",
       "search_ts                         0\n",
       "middle_stations               41441\n",
       "other_companies               41441\n",
       "o_city                            0\n",
       "d_city                            0\n",
       "temps_trajet_total_minutes        0\n",
       "dtype: int64"
      ]
     },
     "execution_count": 10,
     "metadata": {},
     "output_type": "execute_result"
    }
   ],
   "source": [
    "# We check whether some values are missing\n",
    "ticket_data.isnull().sum()    "
   ]
  },
  {
   "cell_type": "markdown",
   "metadata": {},
   "source": [
    "Intuitivement, on peut se dire que les tickets n'ayant pas de stations de départ/arrivée correspondent à du co-voiturage dont une des caractéristiques consiste à partir de lieux spécifiques, et non de stations. Pour vérifier cela, regardons les compagnies qui proposent du covoiturage."
   ]
  },
  {
   "cell_type": "code",
   "execution_count": 11,
   "metadata": {},
   "outputs": [
    {
     "data": {
      "text/html": [
       "<div>\n",
       "<style scoped>\n",
       "    .dataframe tbody tr th:only-of-type {\n",
       "        vertical-align: middle;\n",
       "    }\n",
       "\n",
       "    .dataframe tbody tr th {\n",
       "        vertical-align: top;\n",
       "    }\n",
       "\n",
       "    .dataframe thead th {\n",
       "        text-align: right;\n",
       "    }\n",
       "</style>\n",
       "<table border=\"1\" class=\"dataframe\">\n",
       "  <thead>\n",
       "    <tr style=\"text-align: right;\">\n",
       "      <th></th>\n",
       "      <th>id</th>\n",
       "      <th>company_id</th>\n",
       "      <th>provider_id</th>\n",
       "      <th>name</th>\n",
       "      <th>fullname</th>\n",
       "      <th>has_wifi</th>\n",
       "      <th>has_plug</th>\n",
       "      <th>has_adjustable_seats</th>\n",
       "      <th>has_bicycle</th>\n",
       "      <th>transport_type</th>\n",
       "    </tr>\n",
       "  </thead>\n",
       "  <tbody>\n",
       "    <tr>\n",
       "      <th>223</th>\n",
       "      <td>8385</td>\n",
       "      <td>11</td>\n",
       "      <td>NaN</td>\n",
       "      <td>bbc</td>\n",
       "      <td>Blablacar</td>\n",
       "      <td>False</td>\n",
       "      <td>False</td>\n",
       "      <td>False</td>\n",
       "      <td>False</td>\n",
       "      <td>carpooling</td>\n",
       "    </tr>\n",
       "    <tr>\n",
       "      <th>226</th>\n",
       "      <td>8389</td>\n",
       "      <td>12</td>\n",
       "      <td>NaN</td>\n",
       "      <td>idvroom</td>\n",
       "      <td>idVroom</td>\n",
       "      <td>False</td>\n",
       "      <td>False</td>\n",
       "      <td>False</td>\n",
       "      <td>False</td>\n",
       "      <td>carpooling</td>\n",
       "    </tr>\n",
       "  </tbody>\n",
       "</table>\n",
       "</div>"
      ],
      "text/plain": [
       "       id  company_id provider_id     name   fullname has_wifi has_plug  \\\n",
       "223  8385          11         NaN      bbc  Blablacar    False    False   \n",
       "226  8389          12         NaN  idvroom    idVroom    False    False   \n",
       "\n",
       "    has_adjustable_seats has_bicycle transport_type  \n",
       "223                False       False     carpooling  \n",
       "226                False       False     carpooling  "
      ]
     },
     "execution_count": 11,
     "metadata": {},
     "output_type": "execute_result"
    }
   ],
   "source": [
    "# We determine which providers propose carpooling\n",
    "providers[(providers[\"transport_type\"]==\"carpooling\")].drop_duplicates()"
   ]
  },
  {
   "cell_type": "markdown",
   "metadata": {},
   "source": [
    "On constate que seules 2 compagnies (id 8385 et id 8389) proposent du co-voiturage. Regardons alors si ce sont bien les mêmes qui sont impliquées dans les tickets n'ayant pas de stations de départ/d'arrivée."
   ]
  },
  {
   "cell_type": "code",
   "execution_count": 12,
   "metadata": {},
   "outputs": [
    {
     "data": {
      "text/html": [
       "<div>\n",
       "<style scoped>\n",
       "    .dataframe tbody tr th:only-of-type {\n",
       "        vertical-align: middle;\n",
       "    }\n",
       "\n",
       "    .dataframe tbody tr th {\n",
       "        vertical-align: top;\n",
       "    }\n",
       "\n",
       "    .dataframe thead th {\n",
       "        text-align: right;\n",
       "    }\n",
       "</style>\n",
       "<table border=\"1\" class=\"dataframe\">\n",
       "  <thead>\n",
       "    <tr style=\"text-align: right;\">\n",
       "      <th></th>\n",
       "      <th>company</th>\n",
       "    </tr>\n",
       "  </thead>\n",
       "  <tbody>\n",
       "    <tr>\n",
       "      <th>0</th>\n",
       "      <td>8385</td>\n",
       "    </tr>\n",
       "  </tbody>\n",
       "</table>\n",
       "</div>"
      ],
      "text/plain": [
       "   company\n",
       "0     8385"
      ]
     },
     "execution_count": 12,
     "metadata": {},
     "output_type": "execute_result"
    }
   ],
   "source": [
    "# We select the companies involved in some tickets and having no values for o_station/d_station\n",
    "no_stations=ticket_data[(ticket_data[\"o_station\"].isnull())]\n",
    "no_stations[[\"company\"]].drop_duplicates()"
   ]
  },
  {
   "cell_type": "code",
   "execution_count": 13,
   "metadata": {},
   "outputs": [
    {
     "data": {
      "text/plain": [
       "company    41441\n",
       "dtype: int64"
      ]
     },
     "execution_count": 13,
     "metadata": {},
     "output_type": "execute_result"
    }
   ],
   "source": [
    "no_stations[[\"company\"]].count()"
   ]
  },
  {
   "cell_type": "markdown",
   "metadata": {},
   "source": [
    "On constate donc bien que les 41441 lignes données manquantes dans les stations de départ/arrivée des tickets correspondent à des trajets de co-voiturage (qui plus est avec Blablacar exclusivement).\n",
    "\n",
    "Nous adoptons alors la stratégie suivante : \n",
    "    - nous considérerons la distance ville_départ/ville_arrivée pour les trajets en co-voiturage.\n",
    "    - nous considérerons la distance station_départ/station_arrivée pour les trajets impliquant le bus/train."
   ]
  },
  {
   "cell_type": "code",
   "execution_count": 14,
   "metadata": {},
   "outputs": [
    {
     "name": "stderr",
     "output_type": "stream",
     "text": [
      "/Users/arthurlemerle/anaconda3/lib/python3.7/site-packages/ipykernel_launcher.py:2: DeprecationWarning: The default dtype for empty Series will be 'object' instead of 'float64' in a future version. Specify a dtype explicitly to silence this warning.\n",
      "  \n"
     ]
    },
    {
     "data": {
      "text/html": [
       "<div>\n",
       "<style scoped>\n",
       "    .dataframe tbody tr th:only-of-type {\n",
       "        vertical-align: middle;\n",
       "    }\n",
       "\n",
       "    .dataframe tbody tr th {\n",
       "        vertical-align: top;\n",
       "    }\n",
       "\n",
       "    .dataframe thead th {\n",
       "        text-align: right;\n",
       "    }\n",
       "</style>\n",
       "<table border=\"1\" class=\"dataframe\">\n",
       "  <thead>\n",
       "    <tr style=\"text-align: right;\">\n",
       "      <th></th>\n",
       "      <th>id</th>\n",
       "      <th>company</th>\n",
       "      <th>price_in_cents</th>\n",
       "      <th>o_city</th>\n",
       "      <th>d_city</th>\n",
       "      <th>temps_trajet_total_minutes</th>\n",
       "      <th>Distances</th>\n",
       "    </tr>\n",
       "  </thead>\n",
       "  <tbody>\n",
       "    <tr>\n",
       "      <th>0</th>\n",
       "      <td>6795025</td>\n",
       "      <td>8385</td>\n",
       "      <td>4550</td>\n",
       "      <td>611</td>\n",
       "      <td>542</td>\n",
       "      <td>370.0</td>\n",
       "      <td>NaN</td>\n",
       "    </tr>\n",
       "    <tr>\n",
       "      <th>5</th>\n",
       "      <td>6795030</td>\n",
       "      <td>8385</td>\n",
       "      <td>1800</td>\n",
       "      <td>628</td>\n",
       "      <td>453</td>\n",
       "      <td>180.0</td>\n",
       "      <td>NaN</td>\n",
       "    </tr>\n",
       "    <tr>\n",
       "      <th>6</th>\n",
       "      <td>6795031</td>\n",
       "      <td>8385</td>\n",
       "      <td>2150</td>\n",
       "      <td>628</td>\n",
       "      <td>453</td>\n",
       "      <td>150.0</td>\n",
       "      <td>NaN</td>\n",
       "    </tr>\n",
       "    <tr>\n",
       "      <th>7</th>\n",
       "      <td>6795032</td>\n",
       "      <td>8385</td>\n",
       "      <td>1700</td>\n",
       "      <td>628</td>\n",
       "      <td>453</td>\n",
       "      <td>150.0</td>\n",
       "      <td>NaN</td>\n",
       "    </tr>\n",
       "    <tr>\n",
       "      <th>8</th>\n",
       "      <td>6795033</td>\n",
       "      <td>8385</td>\n",
       "      <td>1700</td>\n",
       "      <td>628</td>\n",
       "      <td>453</td>\n",
       "      <td>170.0</td>\n",
       "      <td>NaN</td>\n",
       "    </tr>\n",
       "  </tbody>\n",
       "</table>\n",
       "</div>"
      ],
      "text/plain": [
       "        id  company  price_in_cents  o_city  d_city  \\\n",
       "0  6795025     8385            4550     611     542   \n",
       "5  6795030     8385            1800     628     453   \n",
       "6  6795031     8385            2150     628     453   \n",
       "7  6795032     8385            1700     628     453   \n",
       "8  6795033     8385            1700     628     453   \n",
       "\n",
       "   temps_trajet_total_minutes  Distances  \n",
       "0                       370.0        NaN  \n",
       "5                       180.0        NaN  \n",
       "6                       150.0        NaN  \n",
       "7                       150.0        NaN  \n",
       "8                       170.0        NaN  "
      ]
     },
     "execution_count": 14,
     "metadata": {},
     "output_type": "execute_result"
    }
   ],
   "source": [
    "# We initialize a new column in the ticket data_set corresponding to the distance of each travel\n",
    "ticket_data[\"Distances\"]=pd.Series()\n",
    "\n",
    "# We firstly select the tickets corresponding to carpooling travels.\n",
    "ticket_covoit=ticket_data[(ticket_data[\"company\"]==8385) | (ticket_data[\"company\"]==8389 )]\n",
    "\n",
    "# We only keep the columns of interest \n",
    "ticket_covoit=ticket_covoit[[\"id\",\"company\", \"price_in_cents\",\"o_city\",\"d_city\", \"temps_trajet_total_minutes\", \"Distances\"]]\n",
    "ticket_covoit.head()"
   ]
  },
  {
   "cell_type": "code",
   "execution_count": 15,
   "metadata": {},
   "outputs": [
    {
     "data": {
      "text/plain": [
       "(41441, 7)"
      ]
     },
     "execution_count": 15,
     "metadata": {},
     "output_type": "execute_result"
    }
   ],
   "source": [
    "ticket_covoit.shape"
   ]
  },
  {
   "cell_type": "markdown",
   "metadata": {},
   "source": [
    "Il s'agit maintenant de calculer à proprement parler les distances entre villes de départ et villes d'arrivée pour du covoiturage. Pour ce faire, nous allons faire 2 jointures sur la table \"stations\" afin de récupérer les coordonnéees latitude/longitude de chacune des villes de départ et d'arrivée."
   ]
  },
  {
   "cell_type": "code",
   "execution_count": 16,
   "metadata": {},
   "outputs": [
    {
     "data": {
      "text/html": [
       "<div>\n",
       "<style scoped>\n",
       "    .dataframe tbody tr th:only-of-type {\n",
       "        vertical-align: middle;\n",
       "    }\n",
       "\n",
       "    .dataframe tbody tr th {\n",
       "        vertical-align: top;\n",
       "    }\n",
       "\n",
       "    .dataframe thead th {\n",
       "        text-align: right;\n",
       "    }\n",
       "</style>\n",
       "<table border=\"1\" class=\"dataframe\">\n",
       "  <thead>\n",
       "    <tr style=\"text-align: right;\">\n",
       "      <th></th>\n",
       "      <th>id_x</th>\n",
       "      <th>company</th>\n",
       "      <th>price_in_cents</th>\n",
       "      <th>o_city</th>\n",
       "      <th>d_city</th>\n",
       "      <th>temps_trajet_total_minutes</th>\n",
       "      <th>Distances</th>\n",
       "      <th>id_y</th>\n",
       "      <th>unique_name</th>\n",
       "      <th>latitude</th>\n",
       "      <th>longitude</th>\n",
       "    </tr>\n",
       "  </thead>\n",
       "  <tbody>\n",
       "    <tr>\n",
       "      <th>0</th>\n",
       "      <td>6795025</td>\n",
       "      <td>8385</td>\n",
       "      <td>4550</td>\n",
       "      <td>611</td>\n",
       "      <td>542</td>\n",
       "      <td>370.0</td>\n",
       "      <td>NaN</td>\n",
       "      <td>611</td>\n",
       "      <td>orleans</td>\n",
       "      <td>47.907018</td>\n",
       "      <td>1.906270</td>\n",
       "    </tr>\n",
       "    <tr>\n",
       "      <th>1</th>\n",
       "      <td>6795030</td>\n",
       "      <td>8385</td>\n",
       "      <td>1800</td>\n",
       "      <td>628</td>\n",
       "      <td>453</td>\n",
       "      <td>180.0</td>\n",
       "      <td>NaN</td>\n",
       "      <td>628</td>\n",
       "      <td>paris</td>\n",
       "      <td>48.847702</td>\n",
       "      <td>2.352311</td>\n",
       "    </tr>\n",
       "    <tr>\n",
       "      <th>2</th>\n",
       "      <td>6795031</td>\n",
       "      <td>8385</td>\n",
       "      <td>2150</td>\n",
       "      <td>628</td>\n",
       "      <td>453</td>\n",
       "      <td>150.0</td>\n",
       "      <td>NaN</td>\n",
       "      <td>628</td>\n",
       "      <td>paris</td>\n",
       "      <td>48.847702</td>\n",
       "      <td>2.352311</td>\n",
       "    </tr>\n",
       "    <tr>\n",
       "      <th>3</th>\n",
       "      <td>6795032</td>\n",
       "      <td>8385</td>\n",
       "      <td>1700</td>\n",
       "      <td>628</td>\n",
       "      <td>453</td>\n",
       "      <td>150.0</td>\n",
       "      <td>NaN</td>\n",
       "      <td>628</td>\n",
       "      <td>paris</td>\n",
       "      <td>48.847702</td>\n",
       "      <td>2.352311</td>\n",
       "    </tr>\n",
       "    <tr>\n",
       "      <th>4</th>\n",
       "      <td>6795033</td>\n",
       "      <td>8385</td>\n",
       "      <td>1700</td>\n",
       "      <td>628</td>\n",
       "      <td>453</td>\n",
       "      <td>170.0</td>\n",
       "      <td>NaN</td>\n",
       "      <td>628</td>\n",
       "      <td>paris</td>\n",
       "      <td>48.847702</td>\n",
       "      <td>2.352311</td>\n",
       "    </tr>\n",
       "  </tbody>\n",
       "</table>\n",
       "</div>"
      ],
      "text/plain": [
       "      id_x  company  price_in_cents  o_city  d_city  \\\n",
       "0  6795025     8385            4550     611     542   \n",
       "1  6795030     8385            1800     628     453   \n",
       "2  6795031     8385            2150     628     453   \n",
       "3  6795032     8385            1700     628     453   \n",
       "4  6795033     8385            1700     628     453   \n",
       "\n",
       "   temps_trajet_total_minutes  Distances  id_y unique_name   latitude  \\\n",
       "0                       370.0        NaN   611     orleans  47.907018   \n",
       "1                       180.0        NaN   628       paris  48.847702   \n",
       "2                       150.0        NaN   628       paris  48.847702   \n",
       "3                       150.0        NaN   628       paris  48.847702   \n",
       "4                       170.0        NaN   628       paris  48.847702   \n",
       "\n",
       "   longitude  \n",
       "0   1.906270  \n",
       "1   2.352311  \n",
       "2   2.352311  \n",
       "3   2.352311  \n",
       "4   2.352311  "
      ]
     },
     "execution_count": 16,
     "metadata": {},
     "output_type": "execute_result"
    }
   ],
   "source": [
    "# First Join, we only keep the id, name and coordinates of the cities. Left_on is the departure city\n",
    "ticket_covoit_cities= pd.merge(ticket_covoit, cities[[\"id\", \"unique_name\", \"latitude\", \"longitude\"]], how='left', left_on='o_city', right_on='id')\n",
    "ticket_covoit_cities.head()"
   ]
  },
  {
   "cell_type": "code",
   "execution_count": 17,
   "metadata": {},
   "outputs": [
    {
     "data": {
      "text/html": [
       "<div>\n",
       "<style scoped>\n",
       "    .dataframe tbody tr th:only-of-type {\n",
       "        vertical-align: middle;\n",
       "    }\n",
       "\n",
       "    .dataframe tbody tr th {\n",
       "        vertical-align: top;\n",
       "    }\n",
       "\n",
       "    .dataframe thead th {\n",
       "        text-align: right;\n",
       "    }\n",
       "</style>\n",
       "<table border=\"1\" class=\"dataframe\">\n",
       "  <thead>\n",
       "    <tr style=\"text-align: right;\">\n",
       "      <th></th>\n",
       "      <th>id_x</th>\n",
       "      <th>company</th>\n",
       "      <th>price_in_cents</th>\n",
       "      <th>o_city</th>\n",
       "      <th>d_city</th>\n",
       "      <th>temps_trajet_total_minutes</th>\n",
       "      <th>Distances</th>\n",
       "      <th>id_y</th>\n",
       "      <th>unique_name_x</th>\n",
       "      <th>latitude_x</th>\n",
       "      <th>longitude_x</th>\n",
       "      <th>id</th>\n",
       "      <th>unique_name_y</th>\n",
       "      <th>latitude_y</th>\n",
       "      <th>longitude_y</th>\n",
       "    </tr>\n",
       "  </thead>\n",
       "  <tbody>\n",
       "    <tr>\n",
       "      <th>0</th>\n",
       "      <td>6795025</td>\n",
       "      <td>8385</td>\n",
       "      <td>4550</td>\n",
       "      <td>611</td>\n",
       "      <td>542</td>\n",
       "      <td>370.0</td>\n",
       "      <td>NaN</td>\n",
       "      <td>611</td>\n",
       "      <td>orleans</td>\n",
       "      <td>47.907018</td>\n",
       "      <td>1.906270</td>\n",
       "      <td>542</td>\n",
       "      <td>montpellier</td>\n",
       "      <td>43.604452</td>\n",
       "      <td>3.918318</td>\n",
       "    </tr>\n",
       "    <tr>\n",
       "      <th>1</th>\n",
       "      <td>6795030</td>\n",
       "      <td>8385</td>\n",
       "      <td>1800</td>\n",
       "      <td>628</td>\n",
       "      <td>453</td>\n",
       "      <td>180.0</td>\n",
       "      <td>NaN</td>\n",
       "      <td>628</td>\n",
       "      <td>paris</td>\n",
       "      <td>48.847702</td>\n",
       "      <td>2.352311</td>\n",
       "      <td>453</td>\n",
       "      <td>lille</td>\n",
       "      <td>50.638756</td>\n",
       "      <td>3.076675</td>\n",
       "    </tr>\n",
       "    <tr>\n",
       "      <th>2</th>\n",
       "      <td>6795031</td>\n",
       "      <td>8385</td>\n",
       "      <td>2150</td>\n",
       "      <td>628</td>\n",
       "      <td>453</td>\n",
       "      <td>150.0</td>\n",
       "      <td>NaN</td>\n",
       "      <td>628</td>\n",
       "      <td>paris</td>\n",
       "      <td>48.847702</td>\n",
       "      <td>2.352311</td>\n",
       "      <td>453</td>\n",
       "      <td>lille</td>\n",
       "      <td>50.638756</td>\n",
       "      <td>3.076675</td>\n",
       "    </tr>\n",
       "    <tr>\n",
       "      <th>3</th>\n",
       "      <td>6795032</td>\n",
       "      <td>8385</td>\n",
       "      <td>1700</td>\n",
       "      <td>628</td>\n",
       "      <td>453</td>\n",
       "      <td>150.0</td>\n",
       "      <td>NaN</td>\n",
       "      <td>628</td>\n",
       "      <td>paris</td>\n",
       "      <td>48.847702</td>\n",
       "      <td>2.352311</td>\n",
       "      <td>453</td>\n",
       "      <td>lille</td>\n",
       "      <td>50.638756</td>\n",
       "      <td>3.076675</td>\n",
       "    </tr>\n",
       "    <tr>\n",
       "      <th>4</th>\n",
       "      <td>6795033</td>\n",
       "      <td>8385</td>\n",
       "      <td>1700</td>\n",
       "      <td>628</td>\n",
       "      <td>453</td>\n",
       "      <td>170.0</td>\n",
       "      <td>NaN</td>\n",
       "      <td>628</td>\n",
       "      <td>paris</td>\n",
       "      <td>48.847702</td>\n",
       "      <td>2.352311</td>\n",
       "      <td>453</td>\n",
       "      <td>lille</td>\n",
       "      <td>50.638756</td>\n",
       "      <td>3.076675</td>\n",
       "    </tr>\n",
       "  </tbody>\n",
       "</table>\n",
       "</div>"
      ],
      "text/plain": [
       "      id_x  company  price_in_cents  o_city  d_city  \\\n",
       "0  6795025     8385            4550     611     542   \n",
       "1  6795030     8385            1800     628     453   \n",
       "2  6795031     8385            2150     628     453   \n",
       "3  6795032     8385            1700     628     453   \n",
       "4  6795033     8385            1700     628     453   \n",
       "\n",
       "   temps_trajet_total_minutes  Distances  id_y unique_name_x  latitude_x  \\\n",
       "0                       370.0        NaN   611       orleans   47.907018   \n",
       "1                       180.0        NaN   628         paris   48.847702   \n",
       "2                       150.0        NaN   628         paris   48.847702   \n",
       "3                       150.0        NaN   628         paris   48.847702   \n",
       "4                       170.0        NaN   628         paris   48.847702   \n",
       "\n",
       "   longitude_x   id unique_name_y  latitude_y  longitude_y  \n",
       "0     1.906270  542   montpellier   43.604452     3.918318  \n",
       "1     2.352311  453         lille   50.638756     3.076675  \n",
       "2     2.352311  453         lille   50.638756     3.076675  \n",
       "3     2.352311  453         lille   50.638756     3.076675  \n",
       "4     2.352311  453         lille   50.638756     3.076675  "
      ]
     },
     "execution_count": 17,
     "metadata": {},
     "output_type": "execute_result"
    }
   ],
   "source": [
    "# Second Join. Left_on is the arrival city\n",
    "ticket_covoit_cities=pd.merge(ticket_covoit_cities,cities[[\"id\", \"unique_name\", \"latitude\", \"longitude\"]], how='left', left_on='d_city', right_on='id')\n",
    "ticket_covoit_cities.head()"
   ]
  },
  {
   "cell_type": "code",
   "execution_count": 18,
   "metadata": {},
   "outputs": [
    {
     "data": {
      "text/plain": [
       "(41441, 15)"
      ]
     },
     "execution_count": 18,
     "metadata": {},
     "output_type": "execute_result"
    }
   ],
   "source": [
    "ticket_covoit_cities.shape"
   ]
  },
  {
   "cell_type": "code",
   "execution_count": 19,
   "metadata": {},
   "outputs": [
    {
     "data": {
      "text/html": [
       "<div>\n",
       "<style scoped>\n",
       "    .dataframe tbody tr th:only-of-type {\n",
       "        vertical-align: middle;\n",
       "    }\n",
       "\n",
       "    .dataframe tbody tr th {\n",
       "        vertical-align: top;\n",
       "    }\n",
       "\n",
       "    .dataframe thead th {\n",
       "        text-align: right;\n",
       "    }\n",
       "</style>\n",
       "<table border=\"1\" class=\"dataframe\">\n",
       "  <thead>\n",
       "    <tr style=\"text-align: right;\">\n",
       "      <th></th>\n",
       "      <th>id</th>\n",
       "      <th>local_name</th>\n",
       "      <th>unique_name</th>\n",
       "      <th>latitude</th>\n",
       "      <th>longitude</th>\n",
       "      <th>population</th>\n",
       "    </tr>\n",
       "  </thead>\n",
       "  <tbody>\n",
       "    <tr>\n",
       "      <th>5382</th>\n",
       "      <td>453</td>\n",
       "      <td>Lille, Hauts-de-France, France</td>\n",
       "      <td>lille</td>\n",
       "      <td>50.638756</td>\n",
       "      <td>3.076675</td>\n",
       "      <td>233897.0</td>\n",
       "    </tr>\n",
       "  </tbody>\n",
       "</table>\n",
       "</div>"
      ],
      "text/plain": [
       "       id                      local_name unique_name   latitude  longitude  \\\n",
       "5382  453  Lille, Hauts-de-France, France       lille  50.638756   3.076675   \n",
       "\n",
       "      population  \n",
       "5382    233897.0  "
      ]
     },
     "execution_count": 19,
     "metadata": {},
     "output_type": "execute_result"
    }
   ],
   "source": [
    "# To check that we have the accurate cities/lat/long we can check on a few id cities that appear above :)...\n",
    "cities[cities[\"id\"]==453]"
   ]
  },
  {
   "cell_type": "markdown",
   "metadata": {},
   "source": [
    "On peut maitenant remplir la colonne \"Distances\". Je crée ici une petite fonction dont je me sers à 2 reprises. Les arguments sont des colonnes de data sets (des pd.Series), et on crée une novelle pd.Series correspondant à la distance."
   ]
  },
  {
   "cell_type": "code",
   "execution_count": 20,
   "metadata": {},
   "outputs": [],
   "source": [
    "def distances(latX, longX, latY, longY):\n",
    "    n=latX.shape[0]\n",
    "    distance = pd.Series(0, range(n))\n",
    "    for i in range(n):\n",
    "        coord_o=(latX[i],longX[i])\n",
    "        coord_d=(latY[i],longY[i])\n",
    "        distance[i]=geodesic(coord_o,coord_d)\n",
    "    return distance"
   ]
  },
  {
   "cell_type": "code",
   "execution_count": 21,
   "metadata": {},
   "outputs": [
    {
     "data": {
      "text/html": [
       "<div>\n",
       "<style scoped>\n",
       "    .dataframe tbody tr th:only-of-type {\n",
       "        vertical-align: middle;\n",
       "    }\n",
       "\n",
       "    .dataframe tbody tr th {\n",
       "        vertical-align: top;\n",
       "    }\n",
       "\n",
       "    .dataframe thead th {\n",
       "        text-align: right;\n",
       "    }\n",
       "</style>\n",
       "<table border=\"1\" class=\"dataframe\">\n",
       "  <thead>\n",
       "    <tr style=\"text-align: right;\">\n",
       "      <th></th>\n",
       "      <th>id_x</th>\n",
       "      <th>company</th>\n",
       "      <th>price_in_cents</th>\n",
       "      <th>o_city</th>\n",
       "      <th>d_city</th>\n",
       "      <th>temps_trajet_total_minutes</th>\n",
       "      <th>Distances</th>\n",
       "      <th>id_y</th>\n",
       "      <th>unique_name_x</th>\n",
       "      <th>latitude_x</th>\n",
       "      <th>longitude_x</th>\n",
       "      <th>id</th>\n",
       "      <th>unique_name_y</th>\n",
       "      <th>latitude_y</th>\n",
       "      <th>longitude_y</th>\n",
       "    </tr>\n",
       "  </thead>\n",
       "  <tbody>\n",
       "    <tr>\n",
       "      <th>0</th>\n",
       "      <td>6795025</td>\n",
       "      <td>8385</td>\n",
       "      <td>4550</td>\n",
       "      <td>611</td>\n",
       "      <td>542</td>\n",
       "      <td>370.0</td>\n",
       "      <td>503.1368310487561 km</td>\n",
       "      <td>611</td>\n",
       "      <td>orleans</td>\n",
       "      <td>47.907018</td>\n",
       "      <td>1.906270</td>\n",
       "      <td>542</td>\n",
       "      <td>montpellier</td>\n",
       "      <td>43.604452</td>\n",
       "      <td>3.918318</td>\n",
       "    </tr>\n",
       "    <tr>\n",
       "      <th>1</th>\n",
       "      <td>6795030</td>\n",
       "      <td>8385</td>\n",
       "      <td>1800</td>\n",
       "      <td>628</td>\n",
       "      <td>453</td>\n",
       "      <td>180.0</td>\n",
       "      <td>205.93367104658697 km</td>\n",
       "      <td>628</td>\n",
       "      <td>paris</td>\n",
       "      <td>48.847702</td>\n",
       "      <td>2.352311</td>\n",
       "      <td>453</td>\n",
       "      <td>lille</td>\n",
       "      <td>50.638756</td>\n",
       "      <td>3.076675</td>\n",
       "    </tr>\n",
       "    <tr>\n",
       "      <th>2</th>\n",
       "      <td>6795031</td>\n",
       "      <td>8385</td>\n",
       "      <td>2150</td>\n",
       "      <td>628</td>\n",
       "      <td>453</td>\n",
       "      <td>150.0</td>\n",
       "      <td>205.93367104658697 km</td>\n",
       "      <td>628</td>\n",
       "      <td>paris</td>\n",
       "      <td>48.847702</td>\n",
       "      <td>2.352311</td>\n",
       "      <td>453</td>\n",
       "      <td>lille</td>\n",
       "      <td>50.638756</td>\n",
       "      <td>3.076675</td>\n",
       "    </tr>\n",
       "    <tr>\n",
       "      <th>3</th>\n",
       "      <td>6795032</td>\n",
       "      <td>8385</td>\n",
       "      <td>1700</td>\n",
       "      <td>628</td>\n",
       "      <td>453</td>\n",
       "      <td>150.0</td>\n",
       "      <td>205.93367104658697 km</td>\n",
       "      <td>628</td>\n",
       "      <td>paris</td>\n",
       "      <td>48.847702</td>\n",
       "      <td>2.352311</td>\n",
       "      <td>453</td>\n",
       "      <td>lille</td>\n",
       "      <td>50.638756</td>\n",
       "      <td>3.076675</td>\n",
       "    </tr>\n",
       "    <tr>\n",
       "      <th>4</th>\n",
       "      <td>6795033</td>\n",
       "      <td>8385</td>\n",
       "      <td>1700</td>\n",
       "      <td>628</td>\n",
       "      <td>453</td>\n",
       "      <td>170.0</td>\n",
       "      <td>205.93367104658697 km</td>\n",
       "      <td>628</td>\n",
       "      <td>paris</td>\n",
       "      <td>48.847702</td>\n",
       "      <td>2.352311</td>\n",
       "      <td>453</td>\n",
       "      <td>lille</td>\n",
       "      <td>50.638756</td>\n",
       "      <td>3.076675</td>\n",
       "    </tr>\n",
       "  </tbody>\n",
       "</table>\n",
       "</div>"
      ],
      "text/plain": [
       "      id_x  company  price_in_cents  o_city  d_city  \\\n",
       "0  6795025     8385            4550     611     542   \n",
       "1  6795030     8385            1800     628     453   \n",
       "2  6795031     8385            2150     628     453   \n",
       "3  6795032     8385            1700     628     453   \n",
       "4  6795033     8385            1700     628     453   \n",
       "\n",
       "   temps_trajet_total_minutes              Distances  id_y unique_name_x  \\\n",
       "0                       370.0   503.1368310487561 km   611       orleans   \n",
       "1                       180.0  205.93367104658697 km   628         paris   \n",
       "2                       150.0  205.93367104658697 km   628         paris   \n",
       "3                       150.0  205.93367104658697 km   628         paris   \n",
       "4                       170.0  205.93367104658697 km   628         paris   \n",
       "\n",
       "   latitude_x  longitude_x   id unique_name_y  latitude_y  longitude_y  \n",
       "0   47.907018     1.906270  542   montpellier   43.604452     3.918318  \n",
       "1   48.847702     2.352311  453         lille   50.638756     3.076675  \n",
       "2   48.847702     2.352311  453         lille   50.638756     3.076675  \n",
       "3   48.847702     2.352311  453         lille   50.638756     3.076675  \n",
       "4   48.847702     2.352311  453         lille   50.638756     3.076675  "
      ]
     },
     "execution_count": 21,
     "metadata": {},
     "output_type": "execute_result"
    }
   ],
   "source": [
    "ticket_covoit_cities[\"Distances\"]=distances(ticket_covoit_cities[\"latitude_x\"],ticket_covoit_cities[\"longitude_x\"],ticket_covoit_cities[\"latitude_y\"],ticket_covoit_cities[\"longitude_y\"])\n",
    "ticket_covoit_cities.head()"
   ]
  },
  {
   "cell_type": "markdown",
   "metadata": {},
   "source": [
    "Remarque : cette méthode n'est pas très optimisée dans la mesure où les distances sont calculées pour chaque ticket, alors que de nombreux tickets relient les mêmes villes : rien que dans les 5 premiers tickets, on constate que 4 correspondent au même trajet Paris-Lille.\n",
    "Pour gagner du temps de calcul, on pourrait plutôt créer un tableau avec les distances entre toutes les villes 2 à 2, que nous calculerions donc une unique fois. C'est ce que je ferai si je trouve le temps :)"
   ]
  },
  {
   "cell_type": "code",
   "execution_count": 22,
   "metadata": {},
   "outputs": [
    {
     "data": {
      "text/html": [
       "<div>\n",
       "<style scoped>\n",
       "    .dataframe tbody tr th:only-of-type {\n",
       "        vertical-align: middle;\n",
       "    }\n",
       "\n",
       "    .dataframe tbody tr th {\n",
       "        vertical-align: top;\n",
       "    }\n",
       "\n",
       "    .dataframe thead th {\n",
       "        text-align: right;\n",
       "    }\n",
       "</style>\n",
       "<table border=\"1\" class=\"dataframe\">\n",
       "  <thead>\n",
       "    <tr style=\"text-align: right;\">\n",
       "      <th></th>\n",
       "      <th>Distances</th>\n",
       "      <th>temps_trajet_total_minutes</th>\n",
       "      <th>price_in_cents</th>\n",
       "      <th>transport_type</th>\n",
       "    </tr>\n",
       "  </thead>\n",
       "  <tbody>\n",
       "    <tr>\n",
       "      <th>0</th>\n",
       "      <td>503.1368310487561 km</td>\n",
       "      <td>370.0</td>\n",
       "      <td>4550</td>\n",
       "      <td>carpooling</td>\n",
       "    </tr>\n",
       "    <tr>\n",
       "      <th>1</th>\n",
       "      <td>205.93367104658697 km</td>\n",
       "      <td>180.0</td>\n",
       "      <td>1800</td>\n",
       "      <td>carpooling</td>\n",
       "    </tr>\n",
       "    <tr>\n",
       "      <th>2</th>\n",
       "      <td>205.93367104658697 km</td>\n",
       "      <td>150.0</td>\n",
       "      <td>2150</td>\n",
       "      <td>carpooling</td>\n",
       "    </tr>\n",
       "    <tr>\n",
       "      <th>3</th>\n",
       "      <td>205.93367104658697 km</td>\n",
       "      <td>150.0</td>\n",
       "      <td>1700</td>\n",
       "      <td>carpooling</td>\n",
       "    </tr>\n",
       "    <tr>\n",
       "      <th>4</th>\n",
       "      <td>205.93367104658697 km</td>\n",
       "      <td>170.0</td>\n",
       "      <td>1700</td>\n",
       "      <td>carpooling</td>\n",
       "    </tr>\n",
       "  </tbody>\n",
       "</table>\n",
       "</div>"
      ],
      "text/plain": [
       "               Distances  temps_trajet_total_minutes  price_in_cents  \\\n",
       "0   503.1368310487561 km                       370.0            4550   \n",
       "1  205.93367104658697 km                       180.0            1800   \n",
       "2  205.93367104658697 km                       150.0            2150   \n",
       "3  205.93367104658697 km                       150.0            1700   \n",
       "4  205.93367104658697 km                       170.0            1700   \n",
       "\n",
       "  transport_type  \n",
       "0     carpooling  \n",
       "1     carpooling  \n",
       "2     carpooling  \n",
       "3     carpooling  \n",
       "4     carpooling  "
      ]
     },
     "execution_count": 22,
     "metadata": {},
     "output_type": "execute_result"
    }
   ],
   "source": [
    "# We keep what is useful for us now\n",
    "ticket_covoit_cities=ticket_covoit_cities[[\"Distances\",\"temps_trajet_total_minutes\",\"price_in_cents\"]]\n",
    "\n",
    "#We can add the type of transportation. (We could also make a merge, this is what we'll do for trains and buses)\n",
    "ticket_covoit_cities[\"transport_type\"]=pd.Series(\"carpooling\", range(ticket_covoit_cities.shape[0]))\n",
    "ticket_covoit_cities.head()"
   ]
  },
  {
   "cell_type": "code",
   "execution_count": 23,
   "metadata": {},
   "outputs": [
    {
     "data": {
      "text/plain": [
       "(41441, 4)"
      ]
     },
     "execution_count": 23,
     "metadata": {},
     "output_type": "execute_result"
    }
   ],
   "source": [
    "ticket_covoit_cities.shape"
   ]
  },
  {
   "cell_type": "markdown",
   "metadata": {},
   "source": [
    "Maintenant que nous avons traité le cas \"covoiturage\" avec distances entre villes, nous pouvons passer au cas bus/train avec distances entre stations."
   ]
  },
  {
   "cell_type": "code",
   "execution_count": 24,
   "metadata": {},
   "outputs": [
    {
     "data": {
      "text/html": [
       "<div>\n",
       "<style scoped>\n",
       "    .dataframe tbody tr th:only-of-type {\n",
       "        vertical-align: middle;\n",
       "    }\n",
       "\n",
       "    .dataframe tbody tr th {\n",
       "        vertical-align: top;\n",
       "    }\n",
       "\n",
       "    .dataframe thead th {\n",
       "        text-align: right;\n",
       "    }\n",
       "</style>\n",
       "<table border=\"1\" class=\"dataframe\">\n",
       "  <thead>\n",
       "    <tr style=\"text-align: right;\">\n",
       "      <th></th>\n",
       "      <th>id</th>\n",
       "      <th>company</th>\n",
       "      <th>price_in_cents</th>\n",
       "      <th>o_station</th>\n",
       "      <th>d_station</th>\n",
       "      <th>temps_trajet_total_minutes</th>\n",
       "      <th>Distances</th>\n",
       "    </tr>\n",
       "  </thead>\n",
       "  <tbody>\n",
       "    <tr>\n",
       "      <th>1</th>\n",
       "      <td>6795026</td>\n",
       "      <td>9</td>\n",
       "      <td>1450</td>\n",
       "      <td>63.0</td>\n",
       "      <td>1044.0</td>\n",
       "      <td>1070.0</td>\n",
       "      <td>NaN</td>\n",
       "    </tr>\n",
       "    <tr>\n",
       "      <th>2</th>\n",
       "      <td>6795027</td>\n",
       "      <td>8377</td>\n",
       "      <td>7400</td>\n",
       "      <td>5905.0</td>\n",
       "      <td>6495.0</td>\n",
       "      <td>1917.0</td>\n",
       "      <td>NaN</td>\n",
       "    </tr>\n",
       "    <tr>\n",
       "      <th>3</th>\n",
       "      <td>6795028</td>\n",
       "      <td>8377</td>\n",
       "      <td>13500</td>\n",
       "      <td>5905.0</td>\n",
       "      <td>6495.0</td>\n",
       "      <td>1295.0</td>\n",
       "      <td>NaN</td>\n",
       "    </tr>\n",
       "    <tr>\n",
       "      <th>4</th>\n",
       "      <td>6795029</td>\n",
       "      <td>8381</td>\n",
       "      <td>7710</td>\n",
       "      <td>5905.0</td>\n",
       "      <td>6495.0</td>\n",
       "      <td>1306.0</td>\n",
       "      <td>NaN</td>\n",
       "    </tr>\n",
       "    <tr>\n",
       "      <th>49</th>\n",
       "      <td>6795074</td>\n",
       "      <td>13</td>\n",
       "      <td>1990</td>\n",
       "      <td>767.0</td>\n",
       "      <td>396.0</td>\n",
       "      <td>675.0</td>\n",
       "      <td>NaN</td>\n",
       "    </tr>\n",
       "  </tbody>\n",
       "</table>\n",
       "</div>"
      ],
      "text/plain": [
       "         id  company  price_in_cents  o_station  d_station  \\\n",
       "1   6795026        9            1450       63.0     1044.0   \n",
       "2   6795027     8377            7400     5905.0     6495.0   \n",
       "3   6795028     8377           13500     5905.0     6495.0   \n",
       "4   6795029     8381            7710     5905.0     6495.0   \n",
       "49  6795074       13            1990      767.0      396.0   \n",
       "\n",
       "    temps_trajet_total_minutes  Distances  \n",
       "1                       1070.0        NaN  \n",
       "2                       1917.0        NaN  \n",
       "3                       1295.0        NaN  \n",
       "4                       1306.0        NaN  \n",
       "49                       675.0        NaN  "
      ]
     },
     "execution_count": 24,
     "metadata": {},
     "output_type": "execute_result"
    }
   ],
   "source": [
    "# We firstly select the tickets corresponding to non-carpooling travels (bus or train)\n",
    "ticket_pas_covoit=ticket_data[(ticket_data[\"company\"]!=8385) & (ticket_data[\"company\"]!=8389 )]\n",
    "\n",
    "# We only keep the columns which are of interest\n",
    "ticket_pas_covoit=ticket_pas_covoit[[\"id\",\"company\", \"price_in_cents\",\"o_station\",\"d_station\", \"temps_trajet_total_minutes\", \"Distances\"]]\n",
    "ticket_pas_covoit.head()"
   ]
  },
  {
   "cell_type": "markdown",
   "metadata": {},
   "source": [
    "Afin de récupérer le type de transport (train ou bus), on peut effectuer une première jointure sur le data set \"providers\"."
   ]
  },
  {
   "cell_type": "code",
   "execution_count": 25,
   "metadata": {},
   "outputs": [
    {
     "data": {
      "text/html": [
       "<div>\n",
       "<style scoped>\n",
       "    .dataframe tbody tr th:only-of-type {\n",
       "        vertical-align: middle;\n",
       "    }\n",
       "\n",
       "    .dataframe tbody tr th {\n",
       "        vertical-align: top;\n",
       "    }\n",
       "\n",
       "    .dataframe thead th {\n",
       "        text-align: right;\n",
       "    }\n",
       "</style>\n",
       "<table border=\"1\" class=\"dataframe\">\n",
       "  <thead>\n",
       "    <tr style=\"text-align: right;\">\n",
       "      <th></th>\n",
       "      <th>id_x</th>\n",
       "      <th>company</th>\n",
       "      <th>price_in_cents</th>\n",
       "      <th>o_station</th>\n",
       "      <th>d_station</th>\n",
       "      <th>temps_trajet_total_minutes</th>\n",
       "      <th>Distances</th>\n",
       "      <th>transport_type</th>\n",
       "    </tr>\n",
       "  </thead>\n",
       "  <tbody>\n",
       "    <tr>\n",
       "      <th>0</th>\n",
       "      <td>6795026</td>\n",
       "      <td>9</td>\n",
       "      <td>1450</td>\n",
       "      <td>63.0</td>\n",
       "      <td>1044.0</td>\n",
       "      <td>1070.0</td>\n",
       "      <td>NaN</td>\n",
       "      <td>bus</td>\n",
       "    </tr>\n",
       "    <tr>\n",
       "      <th>1</th>\n",
       "      <td>6795027</td>\n",
       "      <td>8377</td>\n",
       "      <td>7400</td>\n",
       "      <td>5905.0</td>\n",
       "      <td>6495.0</td>\n",
       "      <td>1917.0</td>\n",
       "      <td>NaN</td>\n",
       "      <td>train</td>\n",
       "    </tr>\n",
       "    <tr>\n",
       "      <th>2</th>\n",
       "      <td>6795028</td>\n",
       "      <td>8377</td>\n",
       "      <td>13500</td>\n",
       "      <td>5905.0</td>\n",
       "      <td>6495.0</td>\n",
       "      <td>1295.0</td>\n",
       "      <td>NaN</td>\n",
       "      <td>train</td>\n",
       "    </tr>\n",
       "    <tr>\n",
       "      <th>3</th>\n",
       "      <td>6795029</td>\n",
       "      <td>8381</td>\n",
       "      <td>7710</td>\n",
       "      <td>5905.0</td>\n",
       "      <td>6495.0</td>\n",
       "      <td>1306.0</td>\n",
       "      <td>NaN</td>\n",
       "      <td>train</td>\n",
       "    </tr>\n",
       "    <tr>\n",
       "      <th>4</th>\n",
       "      <td>6795074</td>\n",
       "      <td>13</td>\n",
       "      <td>1990</td>\n",
       "      <td>767.0</td>\n",
       "      <td>396.0</td>\n",
       "      <td>675.0</td>\n",
       "      <td>NaN</td>\n",
       "      <td>bus</td>\n",
       "    </tr>\n",
       "  </tbody>\n",
       "</table>\n",
       "</div>"
      ],
      "text/plain": [
       "      id_x  company  price_in_cents  o_station  d_station  \\\n",
       "0  6795026        9            1450       63.0     1044.0   \n",
       "1  6795027     8377            7400     5905.0     6495.0   \n",
       "2  6795028     8377           13500     5905.0     6495.0   \n",
       "3  6795029     8381            7710     5905.0     6495.0   \n",
       "4  6795074       13            1990      767.0      396.0   \n",
       "\n",
       "   temps_trajet_total_minutes  Distances transport_type  \n",
       "0                      1070.0        NaN            bus  \n",
       "1                      1917.0        NaN          train  \n",
       "2                      1295.0        NaN          train  \n",
       "3                      1306.0        NaN          train  \n",
       "4                       675.0        NaN            bus  "
      ]
     },
     "execution_count": 25,
     "metadata": {},
     "output_type": "execute_result"
    }
   ],
   "source": [
    "ticket_pas_covoit= pd.merge(ticket_pas_covoit, providers[[\"id\",\"transport_type\"]], how='left', left_on='company', right_on='id')\n",
    "\n",
    "#We keep the useful features\n",
    "ticket_pas_covoit=ticket_pas_covoit[[\"id_x\",\"company\",\"price_in_cents\",\"o_station\",\"d_station\",\"temps_trajet_total_minutes\",\"Distances\",\"transport_type\"]]\n",
    "ticket_pas_covoit.head()"
   ]
  },
  {
   "cell_type": "code",
   "execution_count": 26,
   "metadata": {},
   "outputs": [
    {
     "data": {
      "text/plain": [
       "(32727, 8)"
      ]
     },
     "execution_count": 26,
     "metadata": {},
     "output_type": "execute_result"
    }
   ],
   "source": [
    "ticket_pas_covoit.shape"
   ]
  },
  {
   "cell_type": "code",
   "execution_count": 27,
   "metadata": {},
   "outputs": [
    {
     "data": {
      "text/html": [
       "<div>\n",
       "<style scoped>\n",
       "    .dataframe tbody tr th:only-of-type {\n",
       "        vertical-align: middle;\n",
       "    }\n",
       "\n",
       "    .dataframe tbody tr th {\n",
       "        vertical-align: top;\n",
       "    }\n",
       "\n",
       "    .dataframe thead th {\n",
       "        text-align: right;\n",
       "    }\n",
       "</style>\n",
       "<table border=\"1\" class=\"dataframe\">\n",
       "  <thead>\n",
       "    <tr style=\"text-align: right;\">\n",
       "      <th></th>\n",
       "      <th>id_x</th>\n",
       "      <th>company</th>\n",
       "      <th>price_in_cents</th>\n",
       "      <th>o_station</th>\n",
       "      <th>d_station</th>\n",
       "      <th>temps_trajet_total_minutes</th>\n",
       "      <th>Distances</th>\n",
       "      <th>transport_type</th>\n",
       "      <th>id</th>\n",
       "      <th>unique_name</th>\n",
       "      <th>latitude</th>\n",
       "      <th>longitude</th>\n",
       "    </tr>\n",
       "  </thead>\n",
       "  <tbody>\n",
       "    <tr>\n",
       "      <th>0</th>\n",
       "      <td>6795026</td>\n",
       "      <td>9</td>\n",
       "      <td>1450</td>\n",
       "      <td>63.0</td>\n",
       "      <td>1044.0</td>\n",
       "      <td>1070.0</td>\n",
       "      <td>NaN</td>\n",
       "      <td>bus</td>\n",
       "      <td>63</td>\n",
       "      <td>Avenue Georges Pompidou</td>\n",
       "      <td>47.896911</td>\n",
       "      <td>1.854277</td>\n",
       "    </tr>\n",
       "    <tr>\n",
       "      <th>1</th>\n",
       "      <td>6795027</td>\n",
       "      <td>8377</td>\n",
       "      <td>7400</td>\n",
       "      <td>5905.0</td>\n",
       "      <td>6495.0</td>\n",
       "      <td>1917.0</td>\n",
       "      <td>NaN</td>\n",
       "      <td>train</td>\n",
       "      <td>5905</td>\n",
       "      <td>Les Aubrais</td>\n",
       "      <td>47.926740</td>\n",
       "      <td>1.906740</td>\n",
       "    </tr>\n",
       "    <tr>\n",
       "      <th>2</th>\n",
       "      <td>6795028</td>\n",
       "      <td>8377</td>\n",
       "      <td>13500</td>\n",
       "      <td>5905.0</td>\n",
       "      <td>6495.0</td>\n",
       "      <td>1295.0</td>\n",
       "      <td>NaN</td>\n",
       "      <td>train</td>\n",
       "      <td>5905</td>\n",
       "      <td>Les Aubrais</td>\n",
       "      <td>47.926740</td>\n",
       "      <td>1.906740</td>\n",
       "    </tr>\n",
       "    <tr>\n",
       "      <th>3</th>\n",
       "      <td>6795029</td>\n",
       "      <td>8381</td>\n",
       "      <td>7710</td>\n",
       "      <td>5905.0</td>\n",
       "      <td>6495.0</td>\n",
       "      <td>1306.0</td>\n",
       "      <td>NaN</td>\n",
       "      <td>train</td>\n",
       "      <td>5905</td>\n",
       "      <td>Les Aubrais</td>\n",
       "      <td>47.926740</td>\n",
       "      <td>1.906740</td>\n",
       "    </tr>\n",
       "    <tr>\n",
       "      <th>4</th>\n",
       "      <td>6795074</td>\n",
       "      <td>13</td>\n",
       "      <td>1990</td>\n",
       "      <td>767.0</td>\n",
       "      <td>396.0</td>\n",
       "      <td>675.0</td>\n",
       "      <td>NaN</td>\n",
       "      <td>bus</td>\n",
       "      <td>767</td>\n",
       "      <td>Massy-Palaiseau</td>\n",
       "      <td>48.727660</td>\n",
       "      <td>2.264629</td>\n",
       "    </tr>\n",
       "  </tbody>\n",
       "</table>\n",
       "</div>"
      ],
      "text/plain": [
       "      id_x  company  price_in_cents  o_station  d_station  \\\n",
       "0  6795026        9            1450       63.0     1044.0   \n",
       "1  6795027     8377            7400     5905.0     6495.0   \n",
       "2  6795028     8377           13500     5905.0     6495.0   \n",
       "3  6795029     8381            7710     5905.0     6495.0   \n",
       "4  6795074       13            1990      767.0      396.0   \n",
       "\n",
       "   temps_trajet_total_minutes  Distances transport_type    id  \\\n",
       "0                      1070.0        NaN            bus    63   \n",
       "1                      1917.0        NaN          train  5905   \n",
       "2                      1295.0        NaN          train  5905   \n",
       "3                      1306.0        NaN          train  5905   \n",
       "4                       675.0        NaN            bus   767   \n",
       "\n",
       "               unique_name   latitude  longitude  \n",
       "0  Avenue Georges Pompidou  47.896911   1.854277  \n",
       "1              Les Aubrais  47.926740   1.906740  \n",
       "2              Les Aubrais  47.926740   1.906740  \n",
       "3              Les Aubrais  47.926740   1.906740  \n",
       "4          Massy-Palaiseau  48.727660   2.264629  "
      ]
     },
     "execution_count": 27,
     "metadata": {},
     "output_type": "execute_result"
    }
   ],
   "source": [
    "# First merge to add the departure stations\n",
    "ticket_stations= pd.merge(ticket_pas_covoit, stations, how='left', left_on='o_station', right_on=\"id\")\n",
    "ticket_stations.head()"
   ]
  },
  {
   "cell_type": "code",
   "execution_count": 28,
   "metadata": {},
   "outputs": [
    {
     "data": {
      "text/plain": [
       "(32727, 12)"
      ]
     },
     "execution_count": 28,
     "metadata": {},
     "output_type": "execute_result"
    }
   ],
   "source": [
    "ticket_stations.shape"
   ]
  },
  {
   "cell_type": "code",
   "execution_count": 29,
   "metadata": {},
   "outputs": [
    {
     "name": "stderr",
     "output_type": "stream",
     "text": [
      "/Users/arthurlemerle/anaconda3/lib/python3.7/site-packages/ipykernel_launcher.py:2: FutureWarning: Passing 'suffixes' which cause duplicate columns {'id_x'} in the result is deprecated and will raise a MergeError in a future version.\n",
      "  \n"
     ]
    },
    {
     "data": {
      "text/html": [
       "<div>\n",
       "<style scoped>\n",
       "    .dataframe tbody tr th:only-of-type {\n",
       "        vertical-align: middle;\n",
       "    }\n",
       "\n",
       "    .dataframe tbody tr th {\n",
       "        vertical-align: top;\n",
       "    }\n",
       "\n",
       "    .dataframe thead th {\n",
       "        text-align: right;\n",
       "    }\n",
       "</style>\n",
       "<table border=\"1\" class=\"dataframe\">\n",
       "  <thead>\n",
       "    <tr style=\"text-align: right;\">\n",
       "      <th></th>\n",
       "      <th>id_x</th>\n",
       "      <th>company</th>\n",
       "      <th>price_in_cents</th>\n",
       "      <th>o_station</th>\n",
       "      <th>d_station</th>\n",
       "      <th>temps_trajet_total_minutes</th>\n",
       "      <th>Distances</th>\n",
       "      <th>transport_type</th>\n",
       "      <th>id_x</th>\n",
       "      <th>unique_name_x</th>\n",
       "      <th>latitude_x</th>\n",
       "      <th>longitude_x</th>\n",
       "      <th>id_y</th>\n",
       "      <th>unique_name_y</th>\n",
       "      <th>latitude_y</th>\n",
       "      <th>longitude_y</th>\n",
       "    </tr>\n",
       "  </thead>\n",
       "  <tbody>\n",
       "    <tr>\n",
       "      <th>0</th>\n",
       "      <td>6795026</td>\n",
       "      <td>9</td>\n",
       "      <td>1450</td>\n",
       "      <td>63.0</td>\n",
       "      <td>1044.0</td>\n",
       "      <td>1070.0</td>\n",
       "      <td>NaN</td>\n",
       "      <td>bus</td>\n",
       "      <td>63</td>\n",
       "      <td>Avenue Georges Pompidou</td>\n",
       "      <td>47.896911</td>\n",
       "      <td>1.854277</td>\n",
       "      <td>1044</td>\n",
       "      <td>Station Les Sabines</td>\n",
       "      <td>43.583932</td>\n",
       "      <td>3.860233</td>\n",
       "    </tr>\n",
       "    <tr>\n",
       "      <th>1</th>\n",
       "      <td>6795027</td>\n",
       "      <td>8377</td>\n",
       "      <td>7400</td>\n",
       "      <td>5905.0</td>\n",
       "      <td>6495.0</td>\n",
       "      <td>1917.0</td>\n",
       "      <td>NaN</td>\n",
       "      <td>train</td>\n",
       "      <td>5905</td>\n",
       "      <td>Les Aubrais</td>\n",
       "      <td>47.926740</td>\n",
       "      <td>1.906740</td>\n",
       "      <td>6495</td>\n",
       "      <td>Montpellier</td>\n",
       "      <td>43.604900</td>\n",
       "      <td>3.880500</td>\n",
       "    </tr>\n",
       "    <tr>\n",
       "      <th>2</th>\n",
       "      <td>6795028</td>\n",
       "      <td>8377</td>\n",
       "      <td>13500</td>\n",
       "      <td>5905.0</td>\n",
       "      <td>6495.0</td>\n",
       "      <td>1295.0</td>\n",
       "      <td>NaN</td>\n",
       "      <td>train</td>\n",
       "      <td>5905</td>\n",
       "      <td>Les Aubrais</td>\n",
       "      <td>47.926740</td>\n",
       "      <td>1.906740</td>\n",
       "      <td>6495</td>\n",
       "      <td>Montpellier</td>\n",
       "      <td>43.604900</td>\n",
       "      <td>3.880500</td>\n",
       "    </tr>\n",
       "    <tr>\n",
       "      <th>3</th>\n",
       "      <td>6795029</td>\n",
       "      <td>8381</td>\n",
       "      <td>7710</td>\n",
       "      <td>5905.0</td>\n",
       "      <td>6495.0</td>\n",
       "      <td>1306.0</td>\n",
       "      <td>NaN</td>\n",
       "      <td>train</td>\n",
       "      <td>5905</td>\n",
       "      <td>Les Aubrais</td>\n",
       "      <td>47.926740</td>\n",
       "      <td>1.906740</td>\n",
       "      <td>6495</td>\n",
       "      <td>Montpellier</td>\n",
       "      <td>43.604900</td>\n",
       "      <td>3.880500</td>\n",
       "    </tr>\n",
       "    <tr>\n",
       "      <th>4</th>\n",
       "      <td>6795074</td>\n",
       "      <td>13</td>\n",
       "      <td>1990</td>\n",
       "      <td>767.0</td>\n",
       "      <td>396.0</td>\n",
       "      <td>675.0</td>\n",
       "      <td>NaN</td>\n",
       "      <td>bus</td>\n",
       "      <td>767</td>\n",
       "      <td>Massy-Palaiseau</td>\n",
       "      <td>48.727660</td>\n",
       "      <td>2.264629</td>\n",
       "      <td>396</td>\n",
       "      <td>Gare Lille-Europe</td>\n",
       "      <td>50.638756</td>\n",
       "      <td>3.076675</td>\n",
       "    </tr>\n",
       "  </tbody>\n",
       "</table>\n",
       "</div>"
      ],
      "text/plain": [
       "      id_x  company  price_in_cents  o_station  d_station  \\\n",
       "0  6795026        9            1450       63.0     1044.0   \n",
       "1  6795027     8377            7400     5905.0     6495.0   \n",
       "2  6795028     8377           13500     5905.0     6495.0   \n",
       "3  6795029     8381            7710     5905.0     6495.0   \n",
       "4  6795074       13            1990      767.0      396.0   \n",
       "\n",
       "   temps_trajet_total_minutes  Distances transport_type  id_x  \\\n",
       "0                      1070.0        NaN            bus    63   \n",
       "1                      1917.0        NaN          train  5905   \n",
       "2                      1295.0        NaN          train  5905   \n",
       "3                      1306.0        NaN          train  5905   \n",
       "4                       675.0        NaN            bus   767   \n",
       "\n",
       "             unique_name_x  latitude_x  longitude_x  id_y  \\\n",
       "0  Avenue Georges Pompidou   47.896911     1.854277  1044   \n",
       "1              Les Aubrais   47.926740     1.906740  6495   \n",
       "2              Les Aubrais   47.926740     1.906740  6495   \n",
       "3              Les Aubrais   47.926740     1.906740  6495   \n",
       "4          Massy-Palaiseau   48.727660     2.264629   396   \n",
       "\n",
       "         unique_name_y  latitude_y  longitude_y  \n",
       "0  Station Les Sabines   43.583932     3.860233  \n",
       "1          Montpellier   43.604900     3.880500  \n",
       "2          Montpellier   43.604900     3.880500  \n",
       "3          Montpellier   43.604900     3.880500  \n",
       "4    Gare Lille-Europe   50.638756     3.076675  "
      ]
     },
     "execution_count": 29,
     "metadata": {},
     "output_type": "execute_result"
    }
   ],
   "source": [
    "# Second merge to add the arrival stations\n",
    "ticket_stations= pd.merge(ticket_stations, stations, how='left', left_on='d_station', right_on=\"id\")\n",
    "ticket_stations.head()"
   ]
  },
  {
   "cell_type": "code",
   "execution_count": 30,
   "metadata": {},
   "outputs": [
    {
     "data": {
      "text/html": [
       "<div>\n",
       "<style scoped>\n",
       "    .dataframe tbody tr th:only-of-type {\n",
       "        vertical-align: middle;\n",
       "    }\n",
       "\n",
       "    .dataframe tbody tr th {\n",
       "        vertical-align: top;\n",
       "    }\n",
       "\n",
       "    .dataframe thead th {\n",
       "        text-align: right;\n",
       "    }\n",
       "</style>\n",
       "<table border=\"1\" class=\"dataframe\">\n",
       "  <thead>\n",
       "    <tr style=\"text-align: right;\">\n",
       "      <th></th>\n",
       "      <th>id_x</th>\n",
       "      <th>company</th>\n",
       "      <th>price_in_cents</th>\n",
       "      <th>o_station</th>\n",
       "      <th>d_station</th>\n",
       "      <th>temps_trajet_total_minutes</th>\n",
       "      <th>Distances</th>\n",
       "      <th>transport_type</th>\n",
       "      <th>id_x</th>\n",
       "      <th>unique_name_x</th>\n",
       "      <th>latitude_x</th>\n",
       "      <th>longitude_x</th>\n",
       "      <th>id_y</th>\n",
       "      <th>unique_name_y</th>\n",
       "      <th>latitude_y</th>\n",
       "      <th>longitude_y</th>\n",
       "    </tr>\n",
       "  </thead>\n",
       "  <tbody>\n",
       "    <tr>\n",
       "      <th>0</th>\n",
       "      <td>6795026</td>\n",
       "      <td>9</td>\n",
       "      <td>1450</td>\n",
       "      <td>63.0</td>\n",
       "      <td>1044.0</td>\n",
       "      <td>1070.0</td>\n",
       "      <td>504.1021289182609 km</td>\n",
       "      <td>bus</td>\n",
       "      <td>63</td>\n",
       "      <td>Avenue Georges Pompidou</td>\n",
       "      <td>47.896911</td>\n",
       "      <td>1.854277</td>\n",
       "      <td>1044</td>\n",
       "      <td>Station Les Sabines</td>\n",
       "      <td>43.583932</td>\n",
       "      <td>3.860233</td>\n",
       "    </tr>\n",
       "    <tr>\n",
       "      <th>1</th>\n",
       "      <td>6795027</td>\n",
       "      <td>8377</td>\n",
       "      <td>7400</td>\n",
       "      <td>5905.0</td>\n",
       "      <td>6495.0</td>\n",
       "      <td>1917.0</td>\n",
       "      <td>504.2520886071109 km</td>\n",
       "      <td>train</td>\n",
       "      <td>5905</td>\n",
       "      <td>Les Aubrais</td>\n",
       "      <td>47.926740</td>\n",
       "      <td>1.906740</td>\n",
       "      <td>6495</td>\n",
       "      <td>Montpellier</td>\n",
       "      <td>43.604900</td>\n",
       "      <td>3.880500</td>\n",
       "    </tr>\n",
       "    <tr>\n",
       "      <th>2</th>\n",
       "      <td>6795028</td>\n",
       "      <td>8377</td>\n",
       "      <td>13500</td>\n",
       "      <td>5905.0</td>\n",
       "      <td>6495.0</td>\n",
       "      <td>1295.0</td>\n",
       "      <td>504.2520886071109 km</td>\n",
       "      <td>train</td>\n",
       "      <td>5905</td>\n",
       "      <td>Les Aubrais</td>\n",
       "      <td>47.926740</td>\n",
       "      <td>1.906740</td>\n",
       "      <td>6495</td>\n",
       "      <td>Montpellier</td>\n",
       "      <td>43.604900</td>\n",
       "      <td>3.880500</td>\n",
       "    </tr>\n",
       "    <tr>\n",
       "      <th>3</th>\n",
       "      <td>6795029</td>\n",
       "      <td>8381</td>\n",
       "      <td>7710</td>\n",
       "      <td>5905.0</td>\n",
       "      <td>6495.0</td>\n",
       "      <td>1306.0</td>\n",
       "      <td>504.2520886071109 km</td>\n",
       "      <td>train</td>\n",
       "      <td>5905</td>\n",
       "      <td>Les Aubrais</td>\n",
       "      <td>47.926740</td>\n",
       "      <td>1.906740</td>\n",
       "      <td>6495</td>\n",
       "      <td>Montpellier</td>\n",
       "      <td>43.604900</td>\n",
       "      <td>3.880500</td>\n",
       "    </tr>\n",
       "    <tr>\n",
       "      <th>4</th>\n",
       "      <td>6795074</td>\n",
       "      <td>13</td>\n",
       "      <td>1990</td>\n",
       "      <td>767.0</td>\n",
       "      <td>396.0</td>\n",
       "      <td>675.0</td>\n",
       "      <td>220.48420115530303 km</td>\n",
       "      <td>bus</td>\n",
       "      <td>767</td>\n",
       "      <td>Massy-Palaiseau</td>\n",
       "      <td>48.727660</td>\n",
       "      <td>2.264629</td>\n",
       "      <td>396</td>\n",
       "      <td>Gare Lille-Europe</td>\n",
       "      <td>50.638756</td>\n",
       "      <td>3.076675</td>\n",
       "    </tr>\n",
       "  </tbody>\n",
       "</table>\n",
       "</div>"
      ],
      "text/plain": [
       "      id_x  company  price_in_cents  o_station  d_station  \\\n",
       "0  6795026        9            1450       63.0     1044.0   \n",
       "1  6795027     8377            7400     5905.0     6495.0   \n",
       "2  6795028     8377           13500     5905.0     6495.0   \n",
       "3  6795029     8381            7710     5905.0     6495.0   \n",
       "4  6795074       13            1990      767.0      396.0   \n",
       "\n",
       "   temps_trajet_total_minutes              Distances transport_type  id_x  \\\n",
       "0                      1070.0   504.1021289182609 km            bus    63   \n",
       "1                      1917.0   504.2520886071109 km          train  5905   \n",
       "2                      1295.0   504.2520886071109 km          train  5905   \n",
       "3                      1306.0   504.2520886071109 km          train  5905   \n",
       "4                       675.0  220.48420115530303 km            bus   767   \n",
       "\n",
       "             unique_name_x  latitude_x  longitude_x  id_y  \\\n",
       "0  Avenue Georges Pompidou   47.896911     1.854277  1044   \n",
       "1              Les Aubrais   47.926740     1.906740  6495   \n",
       "2              Les Aubrais   47.926740     1.906740  6495   \n",
       "3              Les Aubrais   47.926740     1.906740  6495   \n",
       "4          Massy-Palaiseau   48.727660     2.264629   396   \n",
       "\n",
       "         unique_name_y  latitude_y  longitude_y  \n",
       "0  Station Les Sabines   43.583932     3.860233  \n",
       "1          Montpellier   43.604900     3.880500  \n",
       "2          Montpellier   43.604900     3.880500  \n",
       "3          Montpellier   43.604900     3.880500  \n",
       "4    Gare Lille-Europe   50.638756     3.076675  "
      ]
     },
     "execution_count": 30,
     "metadata": {},
     "output_type": "execute_result"
    }
   ],
   "source": [
    "#We now calculate the distances for each ticket\n",
    "ticket_stations[\"Distances\"]=distances(ticket_stations[\"latitude_x\"],ticket_stations[\"longitude_x\"],ticket_stations[\"latitude_y\"],ticket_stations[\"longitude_y\"])\n",
    "ticket_stations.head()"
   ]
  },
  {
   "cell_type": "code",
   "execution_count": 31,
   "metadata": {},
   "outputs": [
    {
     "data": {
      "text/html": [
       "<div>\n",
       "<style scoped>\n",
       "    .dataframe tbody tr th:only-of-type {\n",
       "        vertical-align: middle;\n",
       "    }\n",
       "\n",
       "    .dataframe tbody tr th {\n",
       "        vertical-align: top;\n",
       "    }\n",
       "\n",
       "    .dataframe thead th {\n",
       "        text-align: right;\n",
       "    }\n",
       "</style>\n",
       "<table border=\"1\" class=\"dataframe\">\n",
       "  <thead>\n",
       "    <tr style=\"text-align: right;\">\n",
       "      <th></th>\n",
       "      <th>Distances</th>\n",
       "      <th>temps_trajet_total_minutes</th>\n",
       "      <th>price_in_cents</th>\n",
       "      <th>transport_type</th>\n",
       "    </tr>\n",
       "  </thead>\n",
       "  <tbody>\n",
       "    <tr>\n",
       "      <th>0</th>\n",
       "      <td>504.1021289182609 km</td>\n",
       "      <td>1070.0</td>\n",
       "      <td>1450</td>\n",
       "      <td>bus</td>\n",
       "    </tr>\n",
       "    <tr>\n",
       "      <th>1</th>\n",
       "      <td>504.2520886071109 km</td>\n",
       "      <td>1917.0</td>\n",
       "      <td>7400</td>\n",
       "      <td>train</td>\n",
       "    </tr>\n",
       "    <tr>\n",
       "      <th>2</th>\n",
       "      <td>504.2520886071109 km</td>\n",
       "      <td>1295.0</td>\n",
       "      <td>13500</td>\n",
       "      <td>train</td>\n",
       "    </tr>\n",
       "    <tr>\n",
       "      <th>3</th>\n",
       "      <td>504.2520886071109 km</td>\n",
       "      <td>1306.0</td>\n",
       "      <td>7710</td>\n",
       "      <td>train</td>\n",
       "    </tr>\n",
       "    <tr>\n",
       "      <th>4</th>\n",
       "      <td>220.48420115530303 km</td>\n",
       "      <td>675.0</td>\n",
       "      <td>1990</td>\n",
       "      <td>bus</td>\n",
       "    </tr>\n",
       "  </tbody>\n",
       "</table>\n",
       "</div>"
      ],
      "text/plain": [
       "               Distances  temps_trajet_total_minutes  price_in_cents  \\\n",
       "0   504.1021289182609 km                      1070.0            1450   \n",
       "1   504.2520886071109 km                      1917.0            7400   \n",
       "2   504.2520886071109 km                      1295.0           13500   \n",
       "3   504.2520886071109 km                      1306.0            7710   \n",
       "4  220.48420115530303 km                       675.0            1990   \n",
       "\n",
       "  transport_type  \n",
       "0            bus  \n",
       "1          train  \n",
       "2          train  \n",
       "3          train  \n",
       "4            bus  "
      ]
     },
     "execution_count": 31,
     "metadata": {},
     "output_type": "execute_result"
    }
   ],
   "source": [
    "ticket_stations=ticket_stations[[\"Distances\",\"temps_trajet_total_minutes\",\"price_in_cents\",\"transport_type\"]]\n",
    "ticket_stations.head()"
   ]
  },
  {
   "cell_type": "code",
   "execution_count": 32,
   "metadata": {},
   "outputs": [
    {
     "data": {
      "text/plain": [
       "(32727, 4)"
      ]
     },
     "execution_count": 32,
     "metadata": {},
     "output_type": "execute_result"
    }
   ],
   "source": [
    "ticket_stations.shape"
   ]
  },
  {
   "cell_type": "markdown",
   "metadata": {},
   "source": [
    "On peur maintenant réunir dans un grand tableau toutes les données que nous avons rassemblées :"
   ]
  },
  {
   "cell_type": "code",
   "execution_count": 33,
   "metadata": {},
   "outputs": [
    {
     "data": {
      "text/html": [
       "<div>\n",
       "<style scoped>\n",
       "    .dataframe tbody tr th:only-of-type {\n",
       "        vertical-align: middle;\n",
       "    }\n",
       "\n",
       "    .dataframe tbody tr th {\n",
       "        vertical-align: top;\n",
       "    }\n",
       "\n",
       "    .dataframe thead th {\n",
       "        text-align: right;\n",
       "    }\n",
       "</style>\n",
       "<table border=\"1\" class=\"dataframe\">\n",
       "  <thead>\n",
       "    <tr style=\"text-align: right;\">\n",
       "      <th></th>\n",
       "      <th>Distances</th>\n",
       "      <th>temps_trajet_total_minutes</th>\n",
       "      <th>price_in_cents</th>\n",
       "      <th>transport_type</th>\n",
       "    </tr>\n",
       "  </thead>\n",
       "  <tbody>\n",
       "    <tr>\n",
       "      <th>0</th>\n",
       "      <td>503.1368310487561 km</td>\n",
       "      <td>370.0</td>\n",
       "      <td>4550</td>\n",
       "      <td>carpooling</td>\n",
       "    </tr>\n",
       "    <tr>\n",
       "      <th>1</th>\n",
       "      <td>205.93367104658697 km</td>\n",
       "      <td>180.0</td>\n",
       "      <td>1800</td>\n",
       "      <td>carpooling</td>\n",
       "    </tr>\n",
       "    <tr>\n",
       "      <th>2</th>\n",
       "      <td>205.93367104658697 km</td>\n",
       "      <td>150.0</td>\n",
       "      <td>2150</td>\n",
       "      <td>carpooling</td>\n",
       "    </tr>\n",
       "    <tr>\n",
       "      <th>3</th>\n",
       "      <td>205.93367104658697 km</td>\n",
       "      <td>150.0</td>\n",
       "      <td>1700</td>\n",
       "      <td>carpooling</td>\n",
       "    </tr>\n",
       "    <tr>\n",
       "      <th>4</th>\n",
       "      <td>205.93367104658697 km</td>\n",
       "      <td>170.0</td>\n",
       "      <td>1700</td>\n",
       "      <td>carpooling</td>\n",
       "    </tr>\n",
       "  </tbody>\n",
       "</table>\n",
       "</div>"
      ],
      "text/plain": [
       "               Distances  temps_trajet_total_minutes  price_in_cents  \\\n",
       "0   503.1368310487561 km                       370.0            4550   \n",
       "1  205.93367104658697 km                       180.0            1800   \n",
       "2  205.93367104658697 km                       150.0            2150   \n",
       "3  205.93367104658697 km                       150.0            1700   \n",
       "4  205.93367104658697 km                       170.0            1700   \n",
       "\n",
       "  transport_type  \n",
       "0     carpooling  \n",
       "1     carpooling  \n",
       "2     carpooling  \n",
       "3     carpooling  \n",
       "4     carpooling  "
      ]
     },
     "execution_count": 33,
     "metadata": {},
     "output_type": "execute_result"
    }
   ],
   "source": [
    "set_final=pd.concat([ticket_covoit_cities,ticket_stations])\n",
    "set_final.head()"
   ]
  },
  {
   "cell_type": "code",
   "execution_count": 34,
   "metadata": {},
   "outputs": [
    {
     "data": {
      "text/plain": [
       "(74168, 4)"
      ]
     },
     "execution_count": 34,
     "metadata": {},
     "output_type": "execute_result"
    }
   ],
   "source": [
    "set_final.shape"
   ]
  },
  {
   "cell_type": "markdown",
   "metadata": {},
   "source": [
    "On peut maintenant différencier les données en 4 groupes de distances : [0;200km], [200;800kms], [800;2000] et >2000. Nous les indiquons respectivement par les numéros 1,2,3 et 4"
   ]
  },
  {
   "cell_type": "code",
   "execution_count": 35,
   "metadata": {},
   "outputs": [],
   "source": [
    "groupe1=set_final[(set_final[\"Distances\"]<=200)]\n",
    "groupe2=set_final[(set_final[\"Distances\"]>200) & (set_final[\"Distances\"]<=800)]\n",
    "groupe3=set_final[(set_final[\"Distances\"]>800) & (set_final[\"Distances\"]<=2000)]\n",
    "groupe4=set_final[(set_final[\"Distances\"]>2000)]"
   ]
  },
  {
   "cell_type": "markdown",
   "metadata": {},
   "source": [
    "Nous créons maintenant pour chacune de ces catégories distance des petits data_frame résumant le prix moyen et la durée moyenne en fonction du mode de transport utilisé.\n",
    "Pour \"automatiser\" encore un peu plus au lieu de faire 4 copiers-collers, j'aurais pu utiliser un dictionnaire de dictionnaires, mais c'est rapidement illisible. J'ai préféré ici faire quelque chose de plus compréhensible à la lecture, mais de fait un peu moins compact."
   ]
  },
  {
   "cell_type": "code",
   "execution_count": 97,
   "metadata": {},
   "outputs": [
    {
     "name": "stdout",
     "output_type": "stream",
     "text": [
      "                       bus        train   carpooling\n",
      "prix_moyen     2109.564581  3597.305970  1177.352385\n",
      "duree_moyenne   647.451398   261.668284   117.122374\n",
      "                       bus        train   carpooling\n",
      "prix_moyen     3533.660382  9189.725709  3218.064310\n",
      "duree_moyenne   906.479896   464.235438   285.787874\n",
      "                       bus         train   carpooling\n",
      "prix_moyen     6955.783514  15680.126183  8626.545455\n",
      "duree_moyenne  1652.786232    733.041009   786.013986\n",
      "               bus  train  carpooling\n",
      "prix_moyen     NaN    NaN         NaN\n",
      "duree_moyenne  NaN    NaN         NaN\n"
     ]
    }
   ],
   "source": [
    "support={\"bus\", \"train\", \"carpooling\"}\n",
    "\n",
    "groupe1_resume={\"bus\":[0,0],\"train\":[0,0],\"carpooling\":[0,0]}\n",
    "for j in support :\n",
    "    sous_groupej=groupe1[(groupe1[\"transport_type\"]==j)]\n",
    "    groupe1_resume[j][0]=sous_groupej[\"price_in_cents\"].mean()\n",
    "    groupe1_resume[j][1]=sous_groupej[\"temps_trajet_total_minutes\"].mean()\n",
    "groupe1stats=pd.DataFrame(data=groupe1_resume, index=[\"prix_moyen\",\"duree_moyenne\"])\n",
    "\n",
    "groupe2_resume={\"bus\":[0,0],\"train\":[0,0],\"carpooling\":[0,0]}\n",
    "for j in support :\n",
    "    sous_groupej=groupe2[(groupe2[\"transport_type\"]==j)]\n",
    "    groupe2_resume[j][0]=sous_groupej[\"price_in_cents\"].mean()\n",
    "    groupe2_resume[j][1]=sous_groupej[\"temps_trajet_total_minutes\"].mean()\n",
    "groupe2stats=pd.DataFrame(data=groupe2_resume, index=[\"prix_moyen\",\"duree_moyenne\"])\n",
    "\n",
    "groupe3_resume={\"bus\":[0,0],\"train\":[0,0],\"carpooling\":[0,0]}\n",
    "for j in support :\n",
    "    sous_groupej=groupe3[(groupe3[\"transport_type\"]==j)]\n",
    "    groupe3_resume[j][0]=sous_groupej[\"price_in_cents\"].mean()\n",
    "    groupe3_resume[j][1]=sous_groupej[\"temps_trajet_total_minutes\"].mean()\n",
    "groupe3stats=pd.DataFrame(data=groupe3_resume, index=[\"prix_moyen\",\"duree_moyenne\"])\n",
    "\n",
    "groupe4_resume={\"bus\":[0,0],\"train\":[0,0],\"carpooling\":[0,0]}\n",
    "for j in support :\n",
    "    sous_groupej=groupe4[(groupe4[\"transport_type\"]==j)]\n",
    "    groupe4_resume[j][0]=sous_groupej[\"price_in_cents\"].mean()\n",
    "    groupe4_resume[j][1]=sous_groupej[\"temps_trajet_total_minutes\"].mean()\n",
    "groupe4stats=pd.DataFrame(data=groupe4_resume, index=[\"prix_moyen\",\"duree_moyenne\"])\n"
   ]
  },
  {
   "cell_type": "code",
   "execution_count": 37,
   "metadata": {},
   "outputs": [
    {
     "data": {
      "text/html": [
       "<div>\n",
       "<style scoped>\n",
       "    .dataframe tbody tr th:only-of-type {\n",
       "        vertical-align: middle;\n",
       "    }\n",
       "\n",
       "    .dataframe tbody tr th {\n",
       "        vertical-align: top;\n",
       "    }\n",
       "\n",
       "    .dataframe thead th {\n",
       "        text-align: right;\n",
       "    }\n",
       "</style>\n",
       "<table border=\"1\" class=\"dataframe\">\n",
       "  <thead>\n",
       "    <tr style=\"text-align: right;\">\n",
       "      <th></th>\n",
       "      <th>bus</th>\n",
       "      <th>train</th>\n",
       "      <th>carpooling</th>\n",
       "    </tr>\n",
       "  </thead>\n",
       "  <tbody>\n",
       "    <tr>\n",
       "      <th>prix_moyen</th>\n",
       "      <td>2109.564581</td>\n",
       "      <td>3597.305970</td>\n",
       "      <td>1177.352385</td>\n",
       "    </tr>\n",
       "    <tr>\n",
       "      <th>duree_moyenne</th>\n",
       "      <td>647.451398</td>\n",
       "      <td>261.668284</td>\n",
       "      <td>117.122374</td>\n",
       "    </tr>\n",
       "  </tbody>\n",
       "</table>\n",
       "</div>"
      ],
      "text/plain": [
       "                       bus        train   carpooling\n",
       "prix_moyen     2109.564581  3597.305970  1177.352385\n",
       "duree_moyenne   647.451398   261.668284   117.122374"
      ]
     },
     "execution_count": 37,
     "metadata": {},
     "output_type": "execute_result"
    }
   ],
   "source": [
    "groupe1stats"
   ]
  },
  {
   "cell_type": "code",
   "execution_count": 38,
   "metadata": {},
   "outputs": [
    {
     "data": {
      "text/html": [
       "<div>\n",
       "<style scoped>\n",
       "    .dataframe tbody tr th:only-of-type {\n",
       "        vertical-align: middle;\n",
       "    }\n",
       "\n",
       "    .dataframe tbody tr th {\n",
       "        vertical-align: top;\n",
       "    }\n",
       "\n",
       "    .dataframe thead th {\n",
       "        text-align: right;\n",
       "    }\n",
       "</style>\n",
       "<table border=\"1\" class=\"dataframe\">\n",
       "  <thead>\n",
       "    <tr style=\"text-align: right;\">\n",
       "      <th></th>\n",
       "      <th>bus</th>\n",
       "      <th>train</th>\n",
       "      <th>carpooling</th>\n",
       "    </tr>\n",
       "  </thead>\n",
       "  <tbody>\n",
       "    <tr>\n",
       "      <th>prix_moyen</th>\n",
       "      <td>3533.660382</td>\n",
       "      <td>9189.725709</td>\n",
       "      <td>3218.064310</td>\n",
       "    </tr>\n",
       "    <tr>\n",
       "      <th>duree_moyenne</th>\n",
       "      <td>906.479896</td>\n",
       "      <td>464.235438</td>\n",
       "      <td>285.787874</td>\n",
       "    </tr>\n",
       "  </tbody>\n",
       "</table>\n",
       "</div>"
      ],
      "text/plain": [
       "                       bus        train   carpooling\n",
       "prix_moyen     3533.660382  9189.725709  3218.064310\n",
       "duree_moyenne   906.479896   464.235438   285.787874"
      ]
     },
     "execution_count": 38,
     "metadata": {},
     "output_type": "execute_result"
    }
   ],
   "source": [
    "groupe2stats"
   ]
  },
  {
   "cell_type": "code",
   "execution_count": 39,
   "metadata": {},
   "outputs": [
    {
     "data": {
      "text/html": [
       "<div>\n",
       "<style scoped>\n",
       "    .dataframe tbody tr th:only-of-type {\n",
       "        vertical-align: middle;\n",
       "    }\n",
       "\n",
       "    .dataframe tbody tr th {\n",
       "        vertical-align: top;\n",
       "    }\n",
       "\n",
       "    .dataframe thead th {\n",
       "        text-align: right;\n",
       "    }\n",
       "</style>\n",
       "<table border=\"1\" class=\"dataframe\">\n",
       "  <thead>\n",
       "    <tr style=\"text-align: right;\">\n",
       "      <th></th>\n",
       "      <th>bus</th>\n",
       "      <th>train</th>\n",
       "      <th>carpooling</th>\n",
       "    </tr>\n",
       "  </thead>\n",
       "  <tbody>\n",
       "    <tr>\n",
       "      <th>prix_moyen</th>\n",
       "      <td>6955.783514</td>\n",
       "      <td>15680.126183</td>\n",
       "      <td>8626.545455</td>\n",
       "    </tr>\n",
       "    <tr>\n",
       "      <th>duree_moyenne</th>\n",
       "      <td>1652.786232</td>\n",
       "      <td>733.041009</td>\n",
       "      <td>786.013986</td>\n",
       "    </tr>\n",
       "  </tbody>\n",
       "</table>\n",
       "</div>"
      ],
      "text/plain": [
       "                       bus         train   carpooling\n",
       "prix_moyen     6955.783514  15680.126183  8626.545455\n",
       "duree_moyenne  1652.786232    733.041009   786.013986"
      ]
     },
     "execution_count": 39,
     "metadata": {},
     "output_type": "execute_result"
    }
   ],
   "source": [
    "groupe3stats"
   ]
  },
  {
   "cell_type": "code",
   "execution_count": 40,
   "metadata": {},
   "outputs": [
    {
     "data": {
      "text/html": [
       "<div>\n",
       "<style scoped>\n",
       "    .dataframe tbody tr th:only-of-type {\n",
       "        vertical-align: middle;\n",
       "    }\n",
       "\n",
       "    .dataframe tbody tr th {\n",
       "        vertical-align: top;\n",
       "    }\n",
       "\n",
       "    .dataframe thead th {\n",
       "        text-align: right;\n",
       "    }\n",
       "</style>\n",
       "<table border=\"1\" class=\"dataframe\">\n",
       "  <thead>\n",
       "    <tr style=\"text-align: right;\">\n",
       "      <th></th>\n",
       "      <th>bus</th>\n",
       "      <th>train</th>\n",
       "      <th>carpooling</th>\n",
       "    </tr>\n",
       "  </thead>\n",
       "  <tbody>\n",
       "    <tr>\n",
       "      <th>prix_moyen</th>\n",
       "      <td>NaN</td>\n",
       "      <td>NaN</td>\n",
       "      <td>NaN</td>\n",
       "    </tr>\n",
       "    <tr>\n",
       "      <th>duree_moyenne</th>\n",
       "      <td>NaN</td>\n",
       "      <td>NaN</td>\n",
       "      <td>NaN</td>\n",
       "    </tr>\n",
       "  </tbody>\n",
       "</table>\n",
       "</div>"
      ],
      "text/plain": [
       "               bus  train  carpooling\n",
       "prix_moyen     NaN    NaN         NaN\n",
       "duree_moyenne  NaN    NaN         NaN"
      ]
     },
     "execution_count": 40,
     "metadata": {},
     "output_type": "execute_result"
    }
   ],
   "source": [
    "groupe4stats"
   ]
  },
  {
   "cell_type": "markdown",
   "metadata": {},
   "source": [
    "Ces petits \"tableaux\" permettent de répondre à la question 2.\n",
    "Sur les petits trajets par exemple (inférieurs à 200kms, donc de notre groupe 1), le covoiturage est le moyen de transport qui est le plus économique (plus petit prix moyen) devant le bus et le train."
   ]
  },
  {
   "cell_type": "markdown",
   "metadata": {},
   "source": [
    "Pour aller un peu plus loin, nous pouvons commencer par tracer quelques histogrammes pour visualiser plus aisément comment sont réparties les données."
   ]
  },
  {
   "cell_type": "code",
   "execution_count": 41,
   "metadata": {},
   "outputs": [
    {
     "data": {
      "text/plain": [
       "array([<matplotlib.axes._subplots.AxesSubplot object at 0x7fefd4e4d898>,\n",
       "       <matplotlib.axes._subplots.AxesSubplot object at 0x7fefd4db1c88>],\n",
       "      dtype=object)"
      ]
     },
     "execution_count": 41,
     "metadata": {},
     "output_type": "execute_result"
    },
    {
     "data": {
      "image/png": "[encoded data removed]",
      "text/plain": [
       "<Figure size 432x288 with 2 Axes>"
      ]
     },
     "metadata": {
      "needs_background": "light"
     },
     "output_type": "display_data"
    }
   ],
   "source": [
    "set_final.plot.hist(bins=25, alpha=0.8, subplots=True, grid=True)"
   ]
  },
  {
   "cell_type": "markdown",
   "metadata": {},
   "source": [
    "Les temps de trajets semblent être très concentrés sur des valeurs \"faibles\". On peut s'en rendre compte plus facilement avec une boîte à moustaches : "
   ]
  },
  {
   "cell_type": "code",
   "execution_count": 42,
   "metadata": {},
   "outputs": [
    {
     "data": {
      "text/plain": [
       "<matplotlib.axes._subplots.AxesSubplot at 0x7fefce950cf8>"
      ]
     },
     "execution_count": 42,
     "metadata": {},
     "output_type": "execute_result"
    },
    {
     "data": {
      "image/png": "[encoded data removed]",
      "text/plain": [
       "<Figure size 432x720 with 1 Axes>"
      ]
     },
     "metadata": {
      "needs_background": "light"
     },
     "output_type": "display_data"
    }
   ],
   "source": [
    "set_final[\"temps_trajet_total_minutes\"].plot.box(figsize=(6, 10),ylim=(0,1000))"
   ]
  },
  {
   "cell_type": "markdown",
   "metadata": {},
   "source": [
    "Ou alors en \"zoomant\" un peu sur ce qui se passe au début de cette répartition"
   ]
  },
  {
   "cell_type": "code",
   "execution_count": 43,
   "metadata": {},
   "outputs": [
    {
     "data": {
      "text/plain": [
       "array([<matplotlib.axes._subplots.AxesSubplot object at 0x7fefd579c3c8>],\n",
       "      dtype=object)"
      ]
     },
     "execution_count": 43,
     "metadata": {},
     "output_type": "execute_result"
    },
    {
     "data": {
      "image/png": "[encoded data removed]",
      "text/plain": [
       "<Figure size 432x288 with 1 Axes>"
      ]
     },
     "metadata": {
      "needs_background": "light"
     },
     "output_type": "display_data"
    }
   ],
   "source": [
    "set_final[\"temps_trajet_total_minutes\"].plot.hist(bins=200, alpha=0.8, subplots=True, grid=True, xlim=(0,2500))"
   ]
  },
  {
   "cell_type": "markdown",
   "metadata": {},
   "source": [
    "On peut aussi s'amuser à faire quelques prédictions avec différents modèles.\n",
    "Essayons par exemple de trouver le prix d'un ticket en fonction de la distance à parcourir."
   ]
  },
  {
   "cell_type": "code",
   "execution_count": 44,
   "metadata": {},
   "outputs": [
    {
     "data": {
      "text/html": [
       "<div>\n",
       "<style scoped>\n",
       "    .dataframe tbody tr th:only-of-type {\n",
       "        vertical-align: middle;\n",
       "    }\n",
       "\n",
       "    .dataframe tbody tr th {\n",
       "        vertical-align: top;\n",
       "    }\n",
       "\n",
       "    .dataframe thead th {\n",
       "        text-align: right;\n",
       "    }\n",
       "</style>\n",
       "<table border=\"1\" class=\"dataframe\">\n",
       "  <thead>\n",
       "    <tr style=\"text-align: right;\">\n",
       "      <th></th>\n",
       "      <th>Distances</th>\n",
       "      <th>temps_trajet_total_minutes</th>\n",
       "      <th>price_in_cents</th>\n",
       "      <th>transport_type</th>\n",
       "    </tr>\n",
       "  </thead>\n",
       "  <tbody>\n",
       "    <tr>\n",
       "      <th>0</th>\n",
       "      <td>503.1368310487561 km</td>\n",
       "      <td>370.0</td>\n",
       "      <td>4550</td>\n",
       "      <td>carpooling</td>\n",
       "    </tr>\n",
       "    <tr>\n",
       "      <th>1</th>\n",
       "      <td>205.93367104658697 km</td>\n",
       "      <td>180.0</td>\n",
       "      <td>1800</td>\n",
       "      <td>carpooling</td>\n",
       "    </tr>\n",
       "    <tr>\n",
       "      <th>2</th>\n",
       "      <td>205.93367104658697 km</td>\n",
       "      <td>150.0</td>\n",
       "      <td>2150</td>\n",
       "      <td>carpooling</td>\n",
       "    </tr>\n",
       "    <tr>\n",
       "      <th>3</th>\n",
       "      <td>205.93367104658697 km</td>\n",
       "      <td>150.0</td>\n",
       "      <td>1700</td>\n",
       "      <td>carpooling</td>\n",
       "    </tr>\n",
       "    <tr>\n",
       "      <th>4</th>\n",
       "      <td>205.93367104658697 km</td>\n",
       "      <td>170.0</td>\n",
       "      <td>1700</td>\n",
       "      <td>carpooling</td>\n",
       "    </tr>\n",
       "  </tbody>\n",
       "</table>\n",
       "</div>"
      ],
      "text/plain": [
       "               Distances  temps_trajet_total_minutes  price_in_cents  \\\n",
       "0   503.1368310487561 km                       370.0            4550   \n",
       "1  205.93367104658697 km                       180.0            1800   \n",
       "2  205.93367104658697 km                       150.0            2150   \n",
       "3  205.93367104658697 km                       150.0            1700   \n",
       "4  205.93367104658697 km                       170.0            1700   \n",
       "\n",
       "  transport_type  \n",
       "0     carpooling  \n",
       "1     carpooling  \n",
       "2     carpooling  \n",
       "3     carpooling  \n",
       "4     carpooling  "
      ]
     },
     "execution_count": 44,
     "metadata": {},
     "output_type": "execute_result"
    }
   ],
   "source": [
    "set_final.head()"
   ]
  },
  {
   "cell_type": "code",
   "execution_count": 45,
   "metadata": {},
   "outputs": [],
   "source": [
    "# We firstly convert the distances (geodesic objects) into float\n",
    "set_final[\"Distances\"]=set_final[\"Distances\"].astype(str).str[:-3].astype(float)"
   ]
  },
  {
   "cell_type": "code",
   "execution_count": 46,
   "metadata": {},
   "outputs": [
    {
     "data": {
      "text/html": [
       "<div>\n",
       "<style scoped>\n",
       "    .dataframe tbody tr th:only-of-type {\n",
       "        vertical-align: middle;\n",
       "    }\n",
       "\n",
       "    .dataframe tbody tr th {\n",
       "        vertical-align: top;\n",
       "    }\n",
       "\n",
       "    .dataframe thead th {\n",
       "        text-align: right;\n",
       "    }\n",
       "</style>\n",
       "<table border=\"1\" class=\"dataframe\">\n",
       "  <thead>\n",
       "    <tr style=\"text-align: right;\">\n",
       "      <th></th>\n",
       "      <th>Distances</th>\n",
       "      <th>temps_trajet_total_minutes</th>\n",
       "      <th>price_in_cents</th>\n",
       "    </tr>\n",
       "  </thead>\n",
       "  <tbody>\n",
       "    <tr>\n",
       "      <th>Distances</th>\n",
       "      <td>1.000000</td>\n",
       "      <td>0.392565</td>\n",
       "      <td>0.542543</td>\n",
       "    </tr>\n",
       "    <tr>\n",
       "      <th>temps_trajet_total_minutes</th>\n",
       "      <td>0.392565</td>\n",
       "      <td>1.000000</td>\n",
       "      <td>0.159206</td>\n",
       "    </tr>\n",
       "    <tr>\n",
       "      <th>price_in_cents</th>\n",
       "      <td>0.542543</td>\n",
       "      <td>0.159206</td>\n",
       "      <td>1.000000</td>\n",
       "    </tr>\n",
       "  </tbody>\n",
       "</table>\n",
       "</div>"
      ],
      "text/plain": [
       "                            Distances  temps_trajet_total_minutes  \\\n",
       "Distances                    1.000000                    0.392565   \n",
       "temps_trajet_total_minutes   0.392565                    1.000000   \n",
       "price_in_cents               0.542543                    0.159206   \n",
       "\n",
       "                            price_in_cents  \n",
       "Distances                         0.542543  \n",
       "temps_trajet_total_minutes        0.159206  \n",
       "price_in_cents                    1.000000  "
      ]
     },
     "execution_count": 46,
     "metadata": {},
     "output_type": "execute_result"
    }
   ],
   "source": [
    "set_final.corr()"
   ]
  },
  {
   "cell_type": "code",
   "execution_count": 47,
   "metadata": {},
   "outputs": [
    {
     "name": "stderr",
     "output_type": "stream",
     "text": [
      "/Users/arthurlemerle/anaconda3/lib/python3.7/site-packages/statsmodels/tools/_testing.py:19: FutureWarning: pandas.util.testing is deprecated. Use the functions in the public API at pandas.testing instead.\n",
      "  import pandas.util.testing as tm\n"
     ]
    }
   ],
   "source": [
    "import seaborn as sns"
   ]
  },
  {
   "cell_type": "code",
   "execution_count": 48,
   "metadata": {},
   "outputs": [
    {
     "data": {
      "image/png": "[encoded data removed]",
      "text/plain": [
       "<Figure size 432x288 with 2 Axes>"
      ]
     },
     "metadata": {
      "needs_background": "light"
     },
     "output_type": "display_data"
    }
   ],
   "source": [
    "sns.heatmap(set_final.corr());"
   ]
  },
  {
   "cell_type": "markdown",
   "metadata": {},
   "source": [
    "Etant donné la corrélation non négligeable entre la distance et le temps (ce dont on pouvait se douter), peut-être est-il préférable de ne garder que la Distance dans notre modèle prévisionnel."
   ]
  },
  {
   "cell_type": "code",
   "execution_count": 49,
   "metadata": {},
   "outputs": [],
   "source": [
    "# Set y as the target\n",
    "y=set_final[\"price_in_cents\"]\n",
    "\n",
    "# Set X as the features\n",
    "X=set_final[[\"Distances\"]]"
   ]
  },
  {
   "cell_type": "code",
   "execution_count": 50,
   "metadata": {},
   "outputs": [],
   "source": [
    "from sklearn.model_selection import train_test_split"
   ]
  },
  {
   "cell_type": "code",
   "execution_count": 51,
   "metadata": {},
   "outputs": [],
   "source": [
    "# Creation of a train set and a test set\n",
    "train_X, val_X, train_y, val_y = train_test_split(X,y,test_size=0.2,random_state=1)"
   ]
  },
  {
   "cell_type": "markdown",
   "metadata": {},
   "source": [
    "On peut commencer par regarder un modèle linéaire simple"
   ]
  },
  {
   "cell_type": "code",
   "execution_count": 52,
   "metadata": {},
   "outputs": [
    {
     "name": "stderr",
     "output_type": "stream",
     "text": [
      "/Users/arthurlemerle/anaconda3/lib/python3.7/site-packages/sklearn/linear_model/least_angle.py:30: DeprecationWarning: `np.float` is a deprecated alias for the builtin `float`. To silence this warning, use `float` by itself. Doing this will not modify any behavior and is safe. If you specifically wanted the numpy scalar type, use `np.float64` here.\n",
      "Deprecated in NumPy 1.20; for more details and guidance: https://numpy.org/devdocs/release/1.20.0-notes.html#deprecations\n",
      "  method='lar', copy_X=True, eps=np.finfo(np.float).eps,\n",
      "/Users/arthurlemerle/anaconda3/lib/python3.7/site-packages/sklearn/linear_model/least_angle.py:167: DeprecationWarning: `np.float` is a deprecated alias for the builtin `float`. To silence this warning, use `float` by itself. Doing this will not modify any behavior and is safe. If you specifically wanted the numpy scalar type, use `np.float64` here.\n",
      "Deprecated in NumPy 1.20; for more details and guidance: https://numpy.org/devdocs/release/1.20.0-notes.html#deprecations\n",
      "  method='lar', copy_X=True, eps=np.finfo(np.float).eps,\n",
      "/Users/arthurlemerle/anaconda3/lib/python3.7/site-packages/sklearn/linear_model/least_angle.py:284: DeprecationWarning: `np.float` is a deprecated alias for the builtin `float`. To silence this warning, use `float` by itself. Doing this will not modify any behavior and is safe. If you specifically wanted the numpy scalar type, use `np.float64` here.\n",
      "Deprecated in NumPy 1.20; for more details and guidance: https://numpy.org/devdocs/release/1.20.0-notes.html#deprecations\n",
      "  eps=np.finfo(np.float).eps, copy_Gram=True, verbose=0,\n",
      "/Users/arthurlemerle/anaconda3/lib/python3.7/site-packages/sklearn/linear_model/least_angle.py:862: DeprecationWarning: `np.float` is a deprecated alias for the builtin `float`. To silence this warning, use `float` by itself. Doing this will not modify any behavior and is safe. If you specifically wanted the numpy scalar type, use `np.float64` here.\n",
      "Deprecated in NumPy 1.20; for more details and guidance: https://numpy.org/devdocs/release/1.20.0-notes.html#deprecations\n",
      "  eps=np.finfo(np.float).eps, copy_X=True, fit_path=True,\n",
      "/Users/arthurlemerle/anaconda3/lib/python3.7/site-packages/sklearn/linear_model/least_angle.py:1101: DeprecationWarning: `np.float` is a deprecated alias for the builtin `float`. To silence this warning, use `float` by itself. Doing this will not modify any behavior and is safe. If you specifically wanted the numpy scalar type, use `np.float64` here.\n",
      "Deprecated in NumPy 1.20; for more details and guidance: https://numpy.org/devdocs/release/1.20.0-notes.html#deprecations\n",
      "  eps=np.finfo(np.float).eps, copy_X=True, fit_path=True,\n",
      "/Users/arthurlemerle/anaconda3/lib/python3.7/site-packages/sklearn/linear_model/least_angle.py:1127: DeprecationWarning: `np.float` is a deprecated alias for the builtin `float`. To silence this warning, use `float` by itself. Doing this will not modify any behavior and is safe. If you specifically wanted the numpy scalar type, use `np.float64` here.\n",
      "Deprecated in NumPy 1.20; for more details and guidance: https://numpy.org/devdocs/release/1.20.0-notes.html#deprecations\n",
      "  eps=np.finfo(np.float).eps, positive=False):\n",
      "/Users/arthurlemerle/anaconda3/lib/python3.7/site-packages/sklearn/linear_model/least_angle.py:1362: DeprecationWarning: `np.float` is a deprecated alias for the builtin `float`. To silence this warning, use `float` by itself. Doing this will not modify any behavior and is safe. If you specifically wanted the numpy scalar type, use `np.float64` here.\n",
      "Deprecated in NumPy 1.20; for more details and guidance: https://numpy.org/devdocs/release/1.20.0-notes.html#deprecations\n",
      "  max_n_alphas=1000, n_jobs=None, eps=np.finfo(np.float).eps,\n",
      "/Users/arthurlemerle/anaconda3/lib/python3.7/site-packages/sklearn/linear_model/least_angle.py:1602: DeprecationWarning: `np.float` is a deprecated alias for the builtin `float`. To silence this warning, use `float` by itself. Doing this will not modify any behavior and is safe. If you specifically wanted the numpy scalar type, use `np.float64` here.\n",
      "Deprecated in NumPy 1.20; for more details and guidance: https://numpy.org/devdocs/release/1.20.0-notes.html#deprecations\n",
      "  max_n_alphas=1000, n_jobs=None, eps=np.finfo(np.float).eps,\n",
      "/Users/arthurlemerle/anaconda3/lib/python3.7/site-packages/sklearn/linear_model/least_angle.py:1738: DeprecationWarning: `np.float` is a deprecated alias for the builtin `float`. To silence this warning, use `float` by itself. Doing this will not modify any behavior and is safe. If you specifically wanted the numpy scalar type, use `np.float64` here.\n",
      "Deprecated in NumPy 1.20; for more details and guidance: https://numpy.org/devdocs/release/1.20.0-notes.html#deprecations\n",
      "  eps=np.finfo(np.float).eps, copy_X=True, positive=False):\n"
     ]
    }
   ],
   "source": [
    "from sklearn.linear_model import LinearRegression"
   ]
  },
  {
   "cell_type": "code",
   "execution_count": 53,
   "metadata": {},
   "outputs": [],
   "source": [
    "reglin = LinearRegression().fit(train_X, train_y)"
   ]
  },
  {
   "cell_type": "code",
   "execution_count": 54,
   "metadata": {},
   "outputs": [
    {
     "data": {
      "text/plain": [
       "0.2959504154450374"
      ]
     },
     "execution_count": 54,
     "metadata": {},
     "output_type": "execute_result"
    }
   ],
   "source": [
    "reglin.score(train_X,train_y)"
   ]
  },
  {
   "cell_type": "markdown",
   "metadata": {},
   "source": [
    "Le R2 étant assez faible, on constate que la relation Distance/Prix est loin d'être linéaire."
   ]
  },
  {
   "cell_type": "code",
   "execution_count": 55,
   "metadata": {},
   "outputs": [
    {
     "name": "stdout",
     "output_type": "stream",
     "text": [
      "[4036.14922183 6729.94397795 6425.63123349 ... 2744.89613741 1741.67027742\n",
      " 2724.29189243]\n"
     ]
    }
   ],
   "source": [
    "# Predict with all validation observations\n",
    "val_predictions = reglin.predict(val_X)\n",
    "print(val_predictions)"
   ]
  },
  {
   "cell_type": "code",
   "execution_count": 56,
   "metadata": {},
   "outputs": [
    {
     "name": "stdout",
     "output_type": "stream",
     "text": [
      "[4036.14922183 6729.94397795 6425.63123349 2744.89613741 4672.47329   ]\n"
     ]
    }
   ],
   "source": [
    "# print the top few validation predictions\n",
    "print(val_predictions[:5])"
   ]
  },
  {
   "cell_type": "code",
   "execution_count": 57,
   "metadata": {},
   "outputs": [
    {
     "name": "stdout",
     "output_type": "stream",
     "text": [
      "18396     2580\n",
      "6420     18700\n",
      "19361     3390\n",
      "38559     1550\n",
      "7304      3350\n",
      "Name: price_in_cents, dtype: int64\n"
     ]
    }
   ],
   "source": [
    "# print the top few actual prices from validation data\n",
    "print(val_y.head())"
   ]
  },
  {
   "cell_type": "markdown",
   "metadata": {},
   "source": [
    "Les valeurs prédites n'ont pas l'air d'être proches des valeurs réelles... Calculons l'erreur absolue moyenne :"
   ]
  },
  {
   "cell_type": "code",
   "execution_count": 58,
   "metadata": {},
   "outputs": [
    {
     "name": "stdout",
     "output_type": "stream",
     "text": [
      "2047.2338685819716\n"
     ]
    }
   ],
   "source": [
    "from sklearn.metrics import mean_absolute_error\n",
    "val_mae = mean_absolute_error(val_predictions,val_y)\n",
    "print(val_mae)"
   ]
  },
  {
   "cell_type": "markdown",
   "metadata": {},
   "source": [
    "Essayons alors un modèle un peu flexible qu'une régression, comme ici une forêt d'arbres décisionnels :"
   ]
  },
  {
   "cell_type": "code",
   "execution_count": 59,
   "metadata": {},
   "outputs": [
    {
     "name": "stderr",
     "output_type": "stream",
     "text": [
      "/Users/arthurlemerle/anaconda3/lib/python3.7/site-packages/sklearn/decomposition/online_lda.py:29: DeprecationWarning: `np.float` is a deprecated alias for the builtin `float`. To silence this warning, use `float` by itself. Doing this will not modify any behavior and is safe. If you specifically wanted the numpy scalar type, use `np.float64` here.\n",
      "Deprecated in NumPy 1.20; for more details and guidance: https://numpy.org/devdocs/release/1.20.0-notes.html#deprecations\n",
      "  EPS = np.finfo(np.float).eps\n",
      "/Users/arthurlemerle/anaconda3/lib/python3.7/site-packages/sklearn/ensemble/gradient_boosting.py:32: DeprecationWarning: `np.bool` is a deprecated alias for the builtin `bool`. To silence this warning, use `bool` by itself. Doing this will not modify any behavior and is safe. If you specifically wanted the numpy scalar type, use `np.bool_` here.\n",
      "Deprecated in NumPy 1.20; for more details and guidance: https://numpy.org/devdocs/release/1.20.0-notes.html#deprecations\n",
      "  from ._gradient_boosting import predict_stages\n",
      "/Users/arthurlemerle/anaconda3/lib/python3.7/site-packages/sklearn/ensemble/gradient_boosting.py:32: DeprecationWarning: `np.bool` is a deprecated alias for the builtin `bool`. To silence this warning, use `bool` by itself. Doing this will not modify any behavior and is safe. If you specifically wanted the numpy scalar type, use `np.bool_` here.\n",
      "Deprecated in NumPy 1.20; for more details and guidance: https://numpy.org/devdocs/release/1.20.0-notes.html#deprecations\n",
      "  from ._gradient_boosting import predict_stages\n"
     ]
    },
    {
     "name": "stdout",
     "output_type": "stream",
     "text": [
      "Validation MAE for Random Forest Model: 764.2081294619795\n"
     ]
    },
    {
     "name": "stderr",
     "output_type": "stream",
     "text": [
      "/Users/arthurlemerle/anaconda3/lib/python3.7/site-packages/sklearn/ensemble/base.py:158: DeprecationWarning: `np.int` is a deprecated alias for the builtin `int`. To silence this warning, use `int` by itself. Doing this will not modify any behavior and is safe. When replacing `np.int`, you may wish to use e.g. `np.int64` or `np.int32` to specify the precision. If you wish to review your current use, check the release note link for additional information.\n",
      "Deprecated in NumPy 1.20; for more details and guidance: https://numpy.org/devdocs/release/1.20.0-notes.html#deprecations\n",
      "  dtype=np.int)\n"
     ]
    }
   ],
   "source": [
    "from sklearn.ensemble import RandomForestRegressor\n",
    "\n",
    "# We define the model\n",
    "rf_model = RandomForestRegressor(100,random_state=1)\n",
    "\n",
    "# We fit the model\n",
    "rf_model.fit(train_X,train_y)\n",
    "\n",
    "# We make predictions on validation dataset\n",
    "melb_preds = rf_model.predict(val_X)\n",
    "\n",
    "# We calculate the mean absolute error of our Random Forest model on the validation data\n",
    "rf_val_mae = mean_absolute_error(val_y, melb_preds)\n",
    "\n",
    "print(\"Validation MAE for Random Forest Model: {}\".format(rf_val_mae))"
   ]
  },
  {
   "cell_type": "markdown",
   "metadata": {},
   "source": [
    "La moyenne des erreurs absolues a été grandement diminuée par rapport à une régression, de plus de 60% !\n",
    "Essayons de visualiser :"
   ]
  },
  {
   "cell_type": "code",
   "execution_count": 60,
   "metadata": {},
   "outputs": [
    {
     "name": "stderr",
     "output_type": "stream",
     "text": [
      "/Users/arthurlemerle/anaconda3/lib/python3.7/site-packages/sklearn/ensemble/base.py:158: DeprecationWarning: `np.int` is a deprecated alias for the builtin `int`. To silence this warning, use `int` by itself. Doing this will not modify any behavior and is safe. When replacing `np.int`, you may wish to use e.g. `np.int64` or `np.int32` to specify the precision. If you wish to review your current use, check the release note link for additional information.\n",
      "Deprecated in NumPy 1.20; for more details and guidance: https://numpy.org/devdocs/release/1.20.0-notes.html#deprecations\n",
      "  dtype=np.int)\n"
     ]
    },
    {
     "data": {
      "image/png": "[encoded data removed]",
      "text/plain": [
       "<Figure size 1080x576 with 1 Axes>"
      ]
     },
     "metadata": {
      "needs_background": "light"
     },
     "output_type": "display_data"
    }
   ],
   "source": [
    "X_grid = np.arange(train_X.min()[0], train_X.max()[0], 0.01)\n",
    "                  \n",
    "X_grid = X_grid.reshape((len(X_grid), 1))\n",
    " \n",
    "# Scatter plot for original data\n",
    "plt.figure(1,figsize=(15,8))\n",
    "plt.scatter(train_X, train_y, color = 'blue') \n",
    " \n",
    "# plot predicted data\n",
    "plt.plot(X_grid, rf_model.predict(X_grid),\n",
    "         color = 'green')\n",
    "plt.title('Random Forest Regression')\n",
    "plt.xlabel('Distances')\n",
    "plt.ylabel('Prices')\n",
    "plt.show()"
   ]
  },
  {
   "cell_type": "markdown",
   "metadata": {},
   "source": [
    "On prend ici aussi conscience de l'énorme non-linéarité des données. Si on rajoute le temps de trajet total au modèle, voyons si on peut encore améliorer notre mean_absolute_error."
   ]
  },
  {
   "cell_type": "code",
   "execution_count": 61,
   "metadata": {},
   "outputs": [],
   "source": [
    "# We add \"temps_trajet_total_minutes\" to the features\n",
    "X=set_final[[\"Distances\",\"temps_trajet_total_minutes\"]]\n",
    "\n",
    "# We split again our data\n",
    "train_X, val_X, train_y, val_y = train_test_split(X,y,test_size=0.2,random_state=1)"
   ]
  },
  {
   "cell_type": "code",
   "execution_count": 63,
   "metadata": {},
   "outputs": [
    {
     "name": "stderr",
     "output_type": "stream",
     "text": [
      "/Users/arthurlemerle/anaconda3/lib/python3.7/site-packages/sklearn/ensemble/base.py:158: DeprecationWarning: `np.int` is a deprecated alias for the builtin `int`. To silence this warning, use `int` by itself. Doing this will not modify any behavior and is safe. When replacing `np.int`, you may wish to use e.g. `np.int64` or `np.int32` to specify the precision. If you wish to review your current use, check the release note link for additional information.\n",
      "Deprecated in NumPy 1.20; for more details and guidance: https://numpy.org/devdocs/release/1.20.0-notes.html#deprecations\n",
      "  dtype=np.int)\n"
     ]
    },
    {
     "name": "stdout",
     "output_type": "stream",
     "text": [
      "Validation MAE for Random Forest Model: 564.1269934187255\n"
     ]
    }
   ],
   "source": [
    "# We define the new model\n",
    "rf_model2 = RandomForestRegressor(100,random_state=1)\n",
    "\n",
    "# We fit the new model\n",
    "rf_model2.fit(train_X,train_y)\n",
    "\n",
    "# We make predictions on the validation dataset\n",
    "melb_preds2 = rf_model2.predict(val_X)\n",
    "\n",
    "# We calculate the mean absolute error of our Random Forest model on the validation data\n",
    "rf_val_mae = mean_absolute_error(val_y, melb_preds2)\n",
    "\n",
    "print(\"Validation MAE for Random Forest Model with 2 features: {}\".format(rf_val_mae))"
   ]
  },
  {
   "cell_type": "markdown",
   "metadata": {},
   "source": [
    "On constate qu'on arrive encore un peu plus à \"fitter\" les données. \n",
    "Mais en voyant le graphe précédent, j'imagine tout de même qu'il y a un grand risque d'overfitting...\n",
    "Essayons enfin un réseau de neurones :"
   ]
  },
  {
   "cell_type": "code",
   "execution_count": 67,
   "metadata": {},
   "outputs": [],
   "source": [
    "import keras"
   ]
  },
  {
   "cell_type": "code",
   "execution_count": 68,
   "metadata": {},
   "outputs": [],
   "source": [
    "resneu=keras.Sequential()"
   ]
  },
  {
   "cell_type": "code",
   "execution_count": 92,
   "metadata": {},
   "outputs": [
    {
     "name": "stdout",
     "output_type": "stream",
     "text": [
      "Model: \"sequential_7\"\n",
      "_________________________________________________________________\n",
      " Layer (type)                Output Shape              Param #   \n",
      "=================================================================\n",
      " dense_24 (Dense)            (None, 2)                 6         \n",
      "                                                                 \n",
      " dense_25 (Dense)            (None, 10)                30        \n",
      "                                                                 \n",
      " dense_26 (Dense)            (None, 10)                110       \n",
      "                                                                 \n",
      " dense_27 (Dense)            (None, 10)                110       \n",
      "                                                                 \n",
      " dense_28 (Dense)            (None, 1)                 11        \n",
      "                                                                 \n",
      "=================================================================\n",
      "Total params: 267\n",
      "Trainable params: 267\n",
      "Non-trainable params: 0\n",
      "_________________________________________________________________\n"
     ]
    }
   ],
   "source": [
    "resneu = keras.Sequential()\n",
    "resneu.add(keras.layers.Dense(units = 2, activation = 'linear', input_shape=[2]))\n",
    "resneu.add(keras.layers.Dense(units = 10, activation = 'relu'))\n",
    "resneu.add(keras.layers.Dense(units = 10, activation = 'relu'))\n",
    "resneu.add(keras.layers.Dense(units = 10, activation = 'relu'))\n",
    "resneu.add(keras.layers.Dense(units = 1, activation = 'linear'))\n",
    "resneu.compile(loss='mse', optimizer=\"adam\")\n",
    "resneu.summary()"
   ]
  },
  {
   "cell_type": "code",
   "execution_count": 93,
   "metadata": {},
   "outputs": [
    {
     "name": "stdout",
     "output_type": "stream",
     "text": [
      "Epoch 1/100\n",
      "1855/1855 [==============================] - 2s 1ms/step - loss: 13570911.0000\n",
      "Epoch 2/100\n",
      "1855/1855 [==============================] - 2s 1ms/step - loss: 9796381.0000\n",
      "Epoch 3/100\n",
      "1855/1855 [==============================] - 2s 1ms/step - loss: 9618103.0000\n",
      "Epoch 4/100\n",
      "1855/1855 [==============================] - 2s 1ms/step - loss: 9290229.0000\n",
      "Epoch 5/100\n",
      "1855/1855 [==============================] - 2s 1ms/step - loss: 8892146.0000\n",
      "Epoch 6/100\n",
      "1855/1855 [==============================] - 2s 1ms/step - loss: 8727608.0000\n",
      "Epoch 7/100\n",
      "1855/1855 [==============================] - 2s 1ms/step - loss: 8573745.0000\n",
      "Epoch 8/100\n",
      "1855/1855 [==============================] - 2s 1ms/step - loss: 8431530.0000\n",
      "Epoch 9/100\n",
      "1855/1855 [==============================] - 2s 1ms/step - loss: 8382780.5000\n",
      "Epoch 10/100\n",
      "1855/1855 [==============================] - 2s 1ms/step - loss: 8357022.5000\n",
      "Epoch 11/100\n",
      "1855/1855 [==============================] - 2s 1ms/step - loss: 8339064.5000\n",
      "Epoch 12/100\n",
      "1855/1855 [==============================] - 2s 1ms/step - loss: 8334752.0000\n",
      "Epoch 13/100\n",
      "1855/1855 [==============================] - 2s 1ms/step - loss: 8328433.5000\n",
      "Epoch 14/100\n",
      "1855/1855 [==============================] - 2s 1ms/step - loss: 8320640.0000\n",
      "Epoch 15/100\n",
      "1855/1855 [==============================] - 2s 1ms/step - loss: 8302018.5000\n",
      "Epoch 16/100\n",
      "1855/1855 [==============================] - 2s 1ms/step - loss: 8309244.5000\n",
      "Epoch 17/100\n",
      "1855/1855 [==============================] - 2s 1ms/step - loss: 8306634.0000\n",
      "Epoch 18/100\n",
      "1855/1855 [==============================] - 2s 1ms/step - loss: 8296830.0000\n",
      "Epoch 19/100\n",
      "1855/1855 [==============================] - 2s 1ms/step - loss: 8288949.5000\n",
      "Epoch 20/100\n",
      "1855/1855 [==============================] - 2s 1ms/step - loss: 8282650.5000\n",
      "Epoch 21/100\n",
      "1855/1855 [==============================] - 2s 1ms/step - loss: 8223403.5000\n",
      "Epoch 22/100\n",
      "1855/1855 [==============================] - 2s 1ms/step - loss: 8194595.0000\n",
      "Epoch 23/100\n",
      "1855/1855 [==============================] - 2s 1ms/step - loss: 8167254.5000\n",
      "Epoch 24/100\n",
      "1855/1855 [==============================] - 2s 1ms/step - loss: 8158398.5000\n",
      "Epoch 25/100\n",
      "1855/1855 [==============================] - 2s 1ms/step - loss: 8146808.5000\n",
      "Epoch 26/100\n",
      "1855/1855 [==============================] - 2s 1ms/step - loss: 8135473.0000\n",
      "Epoch 27/100\n",
      "1855/1855 [==============================] - 2s 1ms/step - loss: 8136739.0000\n",
      "Epoch 28/100\n",
      "1855/1855 [==============================] - 2s 1ms/step - loss: 8113448.5000\n",
      "Epoch 29/100\n",
      "1855/1855 [==============================] - 2s 1ms/step - loss: 8105779.5000\n",
      "Epoch 30/100\n",
      "1855/1855 [==============================] - 2s 1ms/step - loss: 8098229.0000\n",
      "Epoch 31/100\n",
      "1855/1855 [==============================] - 2s 1ms/step - loss: 8085353.0000\n",
      "Epoch 32/100\n",
      "1855/1855 [==============================] - 2s 1ms/step - loss: 8075100.5000\n",
      "Epoch 33/100\n",
      "1855/1855 [==============================] - 2s 1ms/step - loss: 8053002.5000\n",
      "Epoch 34/100\n",
      "1855/1855 [==============================] - 2s 1ms/step - loss: 8045506.0000\n",
      "Epoch 35/100\n",
      "1855/1855 [==============================] - 2s 1ms/step - loss: 8019585.0000\n",
      "Epoch 36/100\n",
      "1855/1855 [==============================] - 2s 1ms/step - loss: 8004835.0000\n",
      "Epoch 37/100\n",
      "1855/1855 [==============================] - 2s 1ms/step - loss: 7990596.0000\n",
      "Epoch 38/100\n",
      "1855/1855 [==============================] - 2s 1ms/step - loss: 7970148.5000\n",
      "Epoch 39/100\n",
      "1855/1855 [==============================] - 2s 1ms/step - loss: 7949966.5000\n",
      "Epoch 40/100\n",
      "1855/1855 [==============================] - 2s 1ms/step - loss: 7944787.5000\n",
      "Epoch 41/100\n",
      "1855/1855 [==============================] - 2s 1ms/step - loss: 7941087.5000\n",
      "Epoch 42/100\n",
      "1855/1855 [==============================] - 2s 1ms/step - loss: 7915611.5000\n",
      "Epoch 43/100\n",
      "1855/1855 [==============================] - 2s 1ms/step - loss: 7909092.0000\n",
      "Epoch 44/100\n",
      "1855/1855 [==============================] - 2s 1ms/step - loss: 7894579.5000\n",
      "Epoch 45/100\n",
      "1855/1855 [==============================] - 2s 1ms/step - loss: 7897569.0000\n",
      "Epoch 46/100\n",
      "1855/1855 [==============================] - 2s 1ms/step - loss: 7884337.5000\n",
      "Epoch 47/100\n",
      "1855/1855 [==============================] - 2s 1ms/step - loss: 7869376.5000\n",
      "Epoch 48/100\n",
      "1855/1855 [==============================] - 2s 1ms/step - loss: 7857346.0000\n",
      "Epoch 49/100\n",
      "1855/1855 [==============================] - 2s 1ms/step - loss: 7853626.0000\n",
      "Epoch 50/100\n",
      "1855/1855 [==============================] - 2s 1ms/step - loss: 7843349.5000\n",
      "Epoch 51/100\n",
      "1855/1855 [==============================] - 2s 1ms/step - loss: 7842778.5000\n",
      "Epoch 52/100\n",
      "1855/1855 [==============================] - 2s 1ms/step - loss: 7821140.0000\n",
      "Epoch 53/100\n",
      "1855/1855 [==============================] - 2s 1ms/step - loss: 7829827.5000\n",
      "Epoch 54/100\n",
      "1855/1855 [==============================] - 2s 1ms/step - loss: 7825287.0000\n",
      "Epoch 55/100\n",
      "1855/1855 [==============================] - 3s 1ms/step - loss: 7823870.5000\n",
      "Epoch 56/100\n",
      "1855/1855 [==============================] - 2s 1ms/step - loss: 7809169.0000\n",
      "Epoch 57/100\n",
      "1855/1855 [==============================] - 3s 1ms/step - loss: 7804041.5000\n",
      "Epoch 58/100\n",
      "1855/1855 [==============================] - 3s 1ms/step - loss: 7803073.0000\n",
      "Epoch 59/100\n",
      "1855/1855 [==============================] - 2s 1ms/step - loss: 7804805.5000\n",
      "Epoch 60/100\n",
      "1855/1855 [==============================] - 3s 1ms/step - loss: 7803729.5000\n",
      "Epoch 61/100\n",
      "1855/1855 [==============================] - 2s 1ms/step - loss: 7792904.5000\n",
      "Epoch 62/100\n",
      "1855/1855 [==============================] - 3s 1ms/step - loss: 7779096.5000\n",
      "Epoch 63/100\n",
      "1855/1855 [==============================] - 3s 1ms/step - loss: 7787232.0000\n",
      "Epoch 64/100\n",
      "1855/1855 [==============================] - 2s 1ms/step - loss: 7783952.5000\n",
      "Epoch 65/100\n",
      "1855/1855 [==============================] - 3s 1ms/step - loss: 7782641.5000\n",
      "Epoch 66/100\n",
      "1855/1855 [==============================] - 3s 2ms/step - loss: 7768899.0000\n",
      "Epoch 67/100\n",
      "1855/1855 [==============================] - 2s 1ms/step - loss: 7760400.5000\n",
      "Epoch 68/100\n",
      "1855/1855 [==============================] - 2s 1ms/step - loss: 7770822.0000\n",
      "Epoch 69/100\n",
      "1855/1855 [==============================] - 2s 1ms/step - loss: 7770966.5000\n",
      "Epoch 70/100\n",
      "1855/1855 [==============================] - 2s 1ms/step - loss: 7765848.0000\n",
      "Epoch 71/100\n",
      "1855/1855 [==============================] - 2s 1ms/step - loss: 7756093.0000\n",
      "Epoch 72/100\n",
      "1855/1855 [==============================] - 2s 1ms/step - loss: 7761650.5000\n",
      "Epoch 73/100\n",
      "1855/1855 [==============================] - 2s 1ms/step - loss: 7760607.0000\n",
      "Epoch 74/100\n",
      "1855/1855 [==============================] - 2s 1ms/step - loss: 7765678.0000\n",
      "Epoch 75/100\n",
      "1855/1855 [==============================] - 2s 1ms/step - loss: 7751118.5000\n",
      "Epoch 76/100\n",
      "1855/1855 [==============================] - 2s 1ms/step - loss: 7755424.5000\n",
      "Epoch 77/100\n",
      "1855/1855 [==============================] - 2s 1ms/step - loss: 7746235.0000\n",
      "Epoch 78/100\n",
      "1855/1855 [==============================] - 2s 1ms/step - loss: 7752902.5000\n",
      "Epoch 79/100\n",
      "1855/1855 [==============================] - 2s 1ms/step - loss: 7749799.0000\n",
      "Epoch 80/100\n",
      "1855/1855 [==============================] - 2s 1ms/step - loss: 7745646.5000\n",
      "Epoch 81/100\n",
      "1855/1855 [==============================] - 2s 1ms/step - loss: 7750663.0000\n",
      "Epoch 82/100\n",
      "1855/1855 [==============================] - 2s 1ms/step - loss: 7753855.5000\n",
      "Epoch 83/100\n",
      "1855/1855 [==============================] - 2s 1ms/step - loss: 7752216.0000\n",
      "Epoch 84/100\n",
      "1855/1855 [==============================] - 2s 1ms/step - loss: 7738410.0000\n",
      "Epoch 85/100\n",
      "1855/1855 [==============================] - 2s 1ms/step - loss: 7740113.0000\n",
      "Epoch 86/100\n",
      "1855/1855 [==============================] - 2s 1ms/step - loss: 7730696.0000\n",
      "Epoch 87/100\n",
      "1855/1855 [==============================] - 2s 1ms/step - loss: 7726078.0000\n",
      "Epoch 88/100\n",
      "1855/1855 [==============================] - 2s 1ms/step - loss: 7729369.5000\n",
      "Epoch 89/100\n",
      "1855/1855 [==============================] - 2s 1ms/step - loss: 7727735.0000\n",
      "Epoch 90/100\n",
      "1855/1855 [==============================] - 2s 1ms/step - loss: 7733621.0000\n",
      "Epoch 91/100\n"
     ]
    },
    {
     "name": "stdout",
     "output_type": "stream",
     "text": [
      "1855/1855 [==============================] - 2s 1ms/step - loss: 7729912.5000\n",
      "Epoch 92/100\n",
      "1855/1855 [==============================] - 3s 1ms/step - loss: 7729190.5000\n",
      "Epoch 93/100\n",
      "1855/1855 [==============================] - 2s 1ms/step - loss: 7729562.0000\n",
      "Epoch 94/100\n",
      "1855/1855 [==============================] - 2s 1ms/step - loss: 7726738.5000\n",
      "Epoch 95/100\n",
      "1855/1855 [==============================] - 2s 1ms/step - loss: 7726372.5000\n",
      "Epoch 96/100\n",
      "1855/1855 [==============================] - 2s 1ms/step - loss: 7718539.5000\n",
      "Epoch 97/100\n",
      "1855/1855 [==============================] - 2s 1ms/step - loss: 7719489.0000\n",
      "Epoch 98/100\n",
      "1855/1855 [==============================] - 2s 1ms/step - loss: 7715727.5000\n",
      "Epoch 99/100\n",
      "1855/1855 [==============================] - 2s 1ms/step - loss: 7710203.0000\n",
      "Epoch 100/100\n",
      "1855/1855 [==============================] - 2s 1ms/step - loss: 7712726.5000\n"
     ]
    },
    {
     "data": {
      "text/plain": [
       "<keras.callbacks.History at 0x7fefb71fe710>"
      ]
     },
     "execution_count": 93,
     "metadata": {},
     "output_type": "execute_result"
    }
   ],
   "source": [
    "train_Xresneu=train_X.to_numpy()\n",
    "train_yresneu=train_y.to_numpy()\n",
    "\n",
    "resneu.fit( train_Xresneu, train_yresneu, epochs=100, verbose=1)"
   ]
  },
  {
   "cell_type": "code",
   "execution_count": 94,
   "metadata": {},
   "outputs": [],
   "source": [
    "val_Xresneu=val_X.to_numpy()\n",
    "val_yresneu=val_y.to_numpy()"
   ]
  },
  {
   "cell_type": "code",
   "execution_count": 95,
   "metadata": {},
   "outputs": [],
   "source": [
    "y_predictions=resneu.predict(val_Xresneu)"
   ]
  },
  {
   "cell_type": "code",
   "execution_count": 96,
   "metadata": {},
   "outputs": [
    {
     "name": "stdout",
     "output_type": "stream",
     "text": [
      "1529.4910241309983\n"
     ]
    }
   ],
   "source": [
    "mae_resneu=mean_absolute_error(val_yresneu,y_predictions)\n",
    "print(mae_resneu)"
   ]
  },
  {
   "cell_type": "markdown",
   "metadata": {},
   "source": [
    "On constate que notre réseau de neurones -construit totalement au hasard- a de moins bonnes performances que notre forêt d'arbres décisionnels. Sans doute lui faudrait-il plus d'entrainement et une \"meilleure\" architecture pour gagner en performance."
   ]
  },
  {
   "cell_type": "markdown",
   "metadata": {},
   "source": [
    "Il y a évidemment énormément de choses qu'on aurait pu faire différemment sur les prédictions ci-dessus : travailler par type de moyen de transport (d'ailleurs sans doute plus judicieux je pense), ou inclure directement le moyen de transport comme prédicteur. "
   ]
  }
 ],
 "metadata": {
  "kernelspec": {
   "display_name": "Python 3",
   "language": "python",
   "name": "python3"
  },
  "language_info": {
   "codemirror_mode": {
    "name": "ipython",
    "version": 3
   },
   "file_extension": ".py",
   "mimetype": "text/x-python",
   "name": "python",
   "nbconvert_exporter": "python",
   "pygments_lexer": "ipython3",
   "version": "3.7.3"
  }
 },
 "nbformat": 4,
 "nbformat_minor": 2
}
